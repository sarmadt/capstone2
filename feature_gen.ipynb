{
 "cells": [
  {
   "cell_type": "code",
   "execution_count": 1,
   "metadata": {
    "collapsed": true
   },
   "outputs": [],
   "source": [
    "import os\n",
    "#os.chdir(r'C:\\Users\\babsab\\Google Drive\\Courses\\Springboard\\Project\\Cap 2')"
   ]
  },
  {
   "cell_type": "code",
   "execution_count": 2,
   "metadata": {
    "collapsed": true
   },
   "outputs": [],
   "source": [
    "import numpy as np\n",
    "import pandas as pd\n",
    "import seaborn as sns\n",
    "import matplotlib.pyplot as plt"
   ]
  },
  {
   "cell_type": "code",
   "execution_count": 3,
   "metadata": {
    "collapsed": false
   },
   "outputs": [],
   "source": [
    "#to install plotly on command line type:\n",
    "# pip install plotly\n",
    "# pip install plotly --upgrade\n",
    "import plotly as pl"
   ]
  },
  {
   "cell_type": "code",
   "execution_count": 4,
   "metadata": {
    "collapsed": false
   },
   "outputs": [
    {
     "data": {
      "text/html": [
       "<script>requirejs.config({paths: { 'plotly': ['https://cdn.plot.ly/plotly-latest.min']},});if(!window.Plotly) {{require(['plotly'],function(plotly) {window.Plotly=plotly;});}}</script>"
      ],
      "text/vnd.plotly.v1+html": [
       "<script>requirejs.config({paths: { 'plotly': ['https://cdn.plot.ly/plotly-latest.min']},});if(!window.Plotly) {{require(['plotly'],function(plotly) {window.Plotly=plotly;});}}</script>"
      ]
     },
     "metadata": {},
     "output_type": "display_data"
    }
   ],
   "source": [
    "%matplotlib inline\n",
    "import plotly.offline as py\n",
    "py.init_notebook_mode(connected=True)\n",
    "import plotly.graph_objs as go\n",
    "import plotly.tools as tls"
   ]
  },
  {
   "cell_type": "code",
   "execution_count": 5,
   "metadata": {
    "collapsed": false
   },
   "outputs": [
    {
     "data": {
      "text/html": [
       "<div>\n",
       "<style>\n",
       "    .dataframe thead tr:only-child th {\n",
       "        text-align: right;\n",
       "    }\n",
       "\n",
       "    .dataframe thead th {\n",
       "        text-align: left;\n",
       "    }\n",
       "\n",
       "    .dataframe tbody tr th {\n",
       "        vertical-align: top;\n",
       "    }\n",
       "</style>\n",
       "<table border=\"1\" class=\"dataframe\">\n",
       "  <thead>\n",
       "    <tr style=\"text-align: right;\">\n",
       "      <th></th>\n",
       "      <th>id</th>\n",
       "      <th>qid1</th>\n",
       "      <th>qid2</th>\n",
       "      <th>question1</th>\n",
       "      <th>question2</th>\n",
       "      <th>is_duplicate</th>\n",
       "    </tr>\n",
       "  </thead>\n",
       "  <tbody>\n",
       "    <tr>\n",
       "      <th>0</th>\n",
       "      <td>0</td>\n",
       "      <td>1</td>\n",
       "      <td>2</td>\n",
       "      <td>What is the step by step guide to invest in sh...</td>\n",
       "      <td>What is the step by step guide to invest in sh...</td>\n",
       "      <td>0</td>\n",
       "    </tr>\n",
       "    <tr>\n",
       "      <th>1</th>\n",
       "      <td>1</td>\n",
       "      <td>3</td>\n",
       "      <td>4</td>\n",
       "      <td>What is the story of Kohinoor (Koh-i-Noor) Dia...</td>\n",
       "      <td>What would happen if the Indian government sto...</td>\n",
       "      <td>0</td>\n",
       "    </tr>\n",
       "    <tr>\n",
       "      <th>2</th>\n",
       "      <td>2</td>\n",
       "      <td>5</td>\n",
       "      <td>6</td>\n",
       "      <td>How can I increase the speed of my internet co...</td>\n",
       "      <td>How can Internet speed be increased by hacking...</td>\n",
       "      <td>0</td>\n",
       "    </tr>\n",
       "    <tr>\n",
       "      <th>3</th>\n",
       "      <td>3</td>\n",
       "      <td>7</td>\n",
       "      <td>8</td>\n",
       "      <td>Why am I mentally very lonely? How can I solve...</td>\n",
       "      <td>Find the remainder when [math]23^{24}[/math] i...</td>\n",
       "      <td>0</td>\n",
       "    </tr>\n",
       "    <tr>\n",
       "      <th>4</th>\n",
       "      <td>4</td>\n",
       "      <td>9</td>\n",
       "      <td>10</td>\n",
       "      <td>Which one dissolve in water quikly sugar, salt...</td>\n",
       "      <td>Which fish would survive in salt water?</td>\n",
       "      <td>0</td>\n",
       "    </tr>\n",
       "  </tbody>\n",
       "</table>\n",
       "</div>"
      ],
      "text/plain": [
       "   id  qid1  qid2                                          question1  \\\n",
       "0   0     1     2  What is the step by step guide to invest in sh...   \n",
       "1   1     3     4  What is the story of Kohinoor (Koh-i-Noor) Dia...   \n",
       "2   2     5     6  How can I increase the speed of my internet co...   \n",
       "3   3     7     8  Why am I mentally very lonely? How can I solve...   \n",
       "4   4     9    10  Which one dissolve in water quikly sugar, salt...   \n",
       "\n",
       "                                           question2  is_duplicate  \n",
       "0  What is the step by step guide to invest in sh...             0  \n",
       "1  What would happen if the Indian government sto...             0  \n",
       "2  How can Internet speed be increased by hacking...             0  \n",
       "3  Find the remainder when [math]23^{24}[/math] i...             0  \n",
       "4            Which fish would survive in salt water?             0  "
      ]
     },
     "execution_count": 5,
     "metadata": {},
     "output_type": "execute_result"
    }
   ],
   "source": [
    "df = pd.read_csv(\"train.csv\").fillna(\"\")\n",
    "df.head() "
   ]
  },
  {
   "cell_type": "code",
   "execution_count": 6,
   "metadata": {
    "collapsed": false
   },
   "outputs": [
    {
     "name": "stdout",
     "output_type": "stream",
     "text": [
      "<class 'pandas.core.frame.DataFrame'>\n",
      "RangeIndex: 404290 entries, 0 to 404289\n",
      "Data columns (total 6 columns):\n",
      "id              404290 non-null int64\n",
      "qid1            404290 non-null int64\n",
      "qid2            404290 non-null int64\n",
      "question1       404290 non-null object\n",
      "question2       404290 non-null object\n",
      "is_duplicate    404290 non-null int64\n",
      "dtypes: int64(4), object(2)\n",
      "memory usage: 18.5+ MB\n"
     ]
    }
   ],
   "source": [
    "df.info()"
   ]
  },
  {
   "cell_type": "code",
   "execution_count": 7,
   "metadata": {
    "collapsed": false
   },
   "outputs": [
    {
     "data": {
      "text/plain": [
       "(404290, 6)"
      ]
     },
     "execution_count": 7,
     "metadata": {},
     "output_type": "execute_result"
    }
   ],
   "source": [
    "df.shape"
   ]
  },
  {
   "cell_type": "code",
   "execution_count": 8,
   "metadata": {
    "collapsed": false
   },
   "outputs": [
    {
     "data": {
      "text/plain": [
       "<matplotlib.text.Text at 0x16fa6c18>"
      ]
     },
     "execution_count": 8,
     "metadata": {},
     "output_type": "execute_result"
    },
    {
     "data": {
      "image/png": "[encoded data removed]",
      "text/plain": [
       "<matplotlib.figure.Figure at 0x16e05470>"
      ]
     },
     "metadata": {},
     "output_type": "display_data"
    }
   ],
   "source": [
    "ax = (df.groupby(\"is_duplicate\")['id'].count()/len(df)).plot.bar()\n",
    "ax.set_ylabel('Proportion')\n",
    "ax.set_title('Proportion of questions by class variable')"
   ]
  },
  {
   "cell_type": "code",
   "execution_count": 9,
   "metadata": {
    "collapsed": false
   },
   "outputs": [
    {
     "data": {
      "text/plain": [
       "0    What is the step by step guide to invest in sh...\n",
       "1    What is the story of Kohinoor (Koh-i-Noor) Dia...\n",
       "2    How can I increase the speed of my internet co...\n",
       "3    Why am I mentally very lonely? How can I solve...\n",
       "4    Which one dissolve in water quikly sugar, salt...\n",
       "Name: question1, dtype: object"
      ]
     },
     "execution_count": 9,
     "metadata": {},
     "output_type": "execute_result"
    }
   ],
   "source": [
    "df.question1.head()"
   ]
  },
  {
   "cell_type": "code",
   "execution_count": 10,
   "metadata": {
    "collapsed": true
   },
   "outputs": [],
   "source": [
    "# to install spacy on command line type:\n",
    "# conda config --add channels conda-forge\n",
    "# conda install spacy\n",
    "import spacy"
   ]
  },
  {
   "cell_type": "code",
   "execution_count": 11,
   "metadata": {
    "collapsed": false
   },
   "outputs": [],
   "source": [
    "nlp = spacy.load('en')"
   ]
  },
  {
   "cell_type": "code",
   "execution_count": 12,
   "metadata": {
    "collapsed": true
   },
   "outputs": [],
   "source": [
    "#import en_core_web_sm\n",
    "#nlp = en_core_web_sm.load()"
   ]
  },
  {
   "cell_type": "code",
   "execution_count": 13,
   "metadata": {
    "collapsed": false
   },
   "outputs": [
    {
     "data": {
      "text/plain": [
       "array(['What is the step by step guide to invest in share market in india?',\n",
       "       'What is the story of Kohinoor (Koh-i-Noor) Diamond?',\n",
       "       'How can I increase the speed of my internet connection while using a VPN?',\n",
       "       ..., 'What is one coin?',\n",
       "       'What is the approx annual cost of living while studying in UIC Chicago, for an Indian student?',\n",
       "       'What is like to have sex with cousin?'], dtype=object)"
      ]
     },
     "execution_count": 13,
     "metadata": {},
     "output_type": "execute_result"
    }
   ],
   "source": [
    "df.question1.values"
   ]
  },
  {
   "cell_type": "code",
   "execution_count": 14,
   "metadata": {
    "collapsed": false
   },
   "outputs": [
    {
     "data": {
      "text/plain": [
       "str"
      ]
     },
     "execution_count": 14,
     "metadata": {},
     "output_type": "execute_result"
    }
   ],
   "source": [
    "type(df.question1.values[0])"
   ]
  },
  {
   "cell_type": "code",
   "execution_count": 15,
   "metadata": {
    "collapsed": false
   },
   "outputs": [
    {
     "data": {
      "text/plain": [
       "'What is the step by step guide to invest in share market in india?'"
      ]
     },
     "execution_count": 15,
     "metadata": {},
     "output_type": "execute_result"
    }
   ],
   "source": [
    "df.question1.values[0]"
   ]
  },
  {
   "cell_type": "code",
   "execution_count": 16,
   "metadata": {
    "collapsed": false
   },
   "outputs": [
    {
     "data": {
      "text/plain": [
       "u'What is the step by step guide to invest in share market in india?'"
      ]
     },
     "execution_count": 16,
     "metadata": {},
     "output_type": "execute_result"
    }
   ],
   "source": [
    "df.question1.values[0].decode('utf-8')"
   ]
  },
  {
   "cell_type": "code",
   "execution_count": 17,
   "metadata": {
    "collapsed": false
   },
   "outputs": [],
   "source": [
    "df['unicode_q1'] = df['question1'].str.decode('utf-8')"
   ]
  },
  {
   "cell_type": "code",
   "execution_count": 18,
   "metadata": {
    "collapsed": true
   },
   "outputs": [],
   "source": [
    "df['unicode_q2'] = df['question2'].str.decode('utf-8')"
   ]
  },
  {
   "cell_type": "code",
   "execution_count": 19,
   "metadata": {
    "collapsed": false,
    "scrolled": false
   },
   "outputs": [
    {
     "data": {
      "text/html": [
       "<div>\n",
       "<style>\n",
       "    .dataframe thead tr:only-child th {\n",
       "        text-align: right;\n",
       "    }\n",
       "\n",
       "    .dataframe thead th {\n",
       "        text-align: left;\n",
       "    }\n",
       "\n",
       "    .dataframe tbody tr th {\n",
       "        vertical-align: top;\n",
       "    }\n",
       "</style>\n",
       "<table border=\"1\" class=\"dataframe\">\n",
       "  <thead>\n",
       "    <tr style=\"text-align: right;\">\n",
       "      <th></th>\n",
       "      <th>id</th>\n",
       "      <th>qid1</th>\n",
       "      <th>qid2</th>\n",
       "      <th>question1</th>\n",
       "      <th>question2</th>\n",
       "      <th>is_duplicate</th>\n",
       "      <th>unicode_q1</th>\n",
       "      <th>unicode_q2</th>\n",
       "    </tr>\n",
       "  </thead>\n",
       "  <tbody>\n",
       "    <tr>\n",
       "      <th>0</th>\n",
       "      <td>0</td>\n",
       "      <td>1</td>\n",
       "      <td>2</td>\n",
       "      <td>What is the step by step guide to invest in sh...</td>\n",
       "      <td>What is the step by step guide to invest in sh...</td>\n",
       "      <td>0</td>\n",
       "      <td>What is the step by step guide to invest in sh...</td>\n",
       "      <td>What is the step by step guide to invest in sh...</td>\n",
       "    </tr>\n",
       "    <tr>\n",
       "      <th>1</th>\n",
       "      <td>1</td>\n",
       "      <td>3</td>\n",
       "      <td>4</td>\n",
       "      <td>What is the story of Kohinoor (Koh-i-Noor) Dia...</td>\n",
       "      <td>What would happen if the Indian government sto...</td>\n",
       "      <td>0</td>\n",
       "      <td>What is the story of Kohinoor (Koh-i-Noor) Dia...</td>\n",
       "      <td>What would happen if the Indian government sto...</td>\n",
       "    </tr>\n",
       "    <tr>\n",
       "      <th>2</th>\n",
       "      <td>2</td>\n",
       "      <td>5</td>\n",
       "      <td>6</td>\n",
       "      <td>How can I increase the speed of my internet co...</td>\n",
       "      <td>How can Internet speed be increased by hacking...</td>\n",
       "      <td>0</td>\n",
       "      <td>How can I increase the speed of my internet co...</td>\n",
       "      <td>How can Internet speed be increased by hacking...</td>\n",
       "    </tr>\n",
       "    <tr>\n",
       "      <th>3</th>\n",
       "      <td>3</td>\n",
       "      <td>7</td>\n",
       "      <td>8</td>\n",
       "      <td>Why am I mentally very lonely? How can I solve...</td>\n",
       "      <td>Find the remainder when [math]23^{24}[/math] i...</td>\n",
       "      <td>0</td>\n",
       "      <td>Why am I mentally very lonely? How can I solve...</td>\n",
       "      <td>Find the remainder when [math]23^{24}[/math] i...</td>\n",
       "    </tr>\n",
       "    <tr>\n",
       "      <th>4</th>\n",
       "      <td>4</td>\n",
       "      <td>9</td>\n",
       "      <td>10</td>\n",
       "      <td>Which one dissolve in water quikly sugar, salt...</td>\n",
       "      <td>Which fish would survive in salt water?</td>\n",
       "      <td>0</td>\n",
       "      <td>Which one dissolve in water quikly sugar, salt...</td>\n",
       "      <td>Which fish would survive in salt water?</td>\n",
       "    </tr>\n",
       "  </tbody>\n",
       "</table>\n",
       "</div>"
      ],
      "text/plain": [
       "   id  qid1  qid2                                          question1  \\\n",
       "0   0     1     2  What is the step by step guide to invest in sh...   \n",
       "1   1     3     4  What is the story of Kohinoor (Koh-i-Noor) Dia...   \n",
       "2   2     5     6  How can I increase the speed of my internet co...   \n",
       "3   3     7     8  Why am I mentally very lonely? How can I solve...   \n",
       "4   4     9    10  Which one dissolve in water quikly sugar, salt...   \n",
       "\n",
       "                                           question2  is_duplicate  \\\n",
       "0  What is the step by step guide to invest in sh...             0   \n",
       "1  What would happen if the Indian government sto...             0   \n",
       "2  How can Internet speed be increased by hacking...             0   \n",
       "3  Find the remainder when [math]23^{24}[/math] i...             0   \n",
       "4            Which fish would survive in salt water?             0   \n",
       "\n",
       "                                          unicode_q1  \\\n",
       "0  What is the step by step guide to invest in sh...   \n",
       "1  What is the story of Kohinoor (Koh-i-Noor) Dia...   \n",
       "2  How can I increase the speed of my internet co...   \n",
       "3  Why am I mentally very lonely? How can I solve...   \n",
       "4  Which one dissolve in water quikly sugar, salt...   \n",
       "\n",
       "                                          unicode_q2  \n",
       "0  What is the step by step guide to invest in sh...  \n",
       "1  What would happen if the Indian government sto...  \n",
       "2  How can Internet speed be increased by hacking...  \n",
       "3  Find the remainder when [math]23^{24}[/math] i...  \n",
       "4            Which fish would survive in salt water?  "
      ]
     },
     "execution_count": 19,
     "metadata": {},
     "output_type": "execute_result"
    }
   ],
   "source": [
    "df.head()"
   ]
  },
  {
   "cell_type": "code",
   "execution_count": 20,
   "metadata": {
    "collapsed": false
   },
   "outputs": [
    {
     "data": {
      "text/plain": [
       "(404290, 8)"
      ]
     },
     "execution_count": 20,
     "metadata": {},
     "output_type": "execute_result"
    }
   ],
   "source": [
    "df.shape"
   ]
  },
  {
   "cell_type": "code",
   "execution_count": 21,
   "metadata": {
    "collapsed": true
   },
   "outputs": [],
   "source": [
    "df_samp = df.iloc[:2500,:]"
   ]
  },
  {
   "cell_type": "code",
   "execution_count": 22,
   "metadata": {
    "collapsed": false
   },
   "outputs": [
    {
     "name": "stderr",
     "output_type": "stream",
     "text": [
      "C:\\Users\\sarma_tvxkwyx\\Anaconda2\\lib\\site-packages\\ipykernel\\__main__.py:1: SettingWithCopyWarning:\n",
      "\n",
      "\n",
      "A value is trying to be set on a copy of a slice from a DataFrame.\n",
      "Try using .loc[row_indexer,col_indexer] = value instead\n",
      "\n",
      "See the caveats in the documentation: http://pandas.pydata.org/pandas-docs/stable/indexing.html#indexing-view-versus-copy\n",
      "\n"
     ]
    }
   ],
   "source": [
    "df_samp['parsed_q1'] = df_samp['unicode_q1'].apply(nlp)"
   ]
  },
  {
   "cell_type": "code",
   "execution_count": 23,
   "metadata": {
    "collapsed": false
   },
   "outputs": [
    {
     "data": {
      "text/html": [
       "<div>\n",
       "<style>\n",
       "    .dataframe thead tr:only-child th {\n",
       "        text-align: right;\n",
       "    }\n",
       "\n",
       "    .dataframe thead th {\n",
       "        text-align: left;\n",
       "    }\n",
       "\n",
       "    .dataframe tbody tr th {\n",
       "        vertical-align: top;\n",
       "    }\n",
       "</style>\n",
       "<table border=\"1\" class=\"dataframe\">\n",
       "  <thead>\n",
       "    <tr style=\"text-align: right;\">\n",
       "      <th></th>\n",
       "      <th>id</th>\n",
       "      <th>qid1</th>\n",
       "      <th>qid2</th>\n",
       "      <th>question1</th>\n",
       "      <th>question2</th>\n",
       "      <th>is_duplicate</th>\n",
       "      <th>unicode_q1</th>\n",
       "      <th>unicode_q2</th>\n",
       "      <th>parsed_q1</th>\n",
       "    </tr>\n",
       "  </thead>\n",
       "  <tbody>\n",
       "    <tr>\n",
       "      <th>0</th>\n",
       "      <td>0</td>\n",
       "      <td>1</td>\n",
       "      <td>2</td>\n",
       "      <td>What is the step by step guide to invest in sh...</td>\n",
       "      <td>What is the step by step guide to invest in sh...</td>\n",
       "      <td>0</td>\n",
       "      <td>What is the step by step guide to invest in sh...</td>\n",
       "      <td>What is the step by step guide to invest in sh...</td>\n",
       "      <td>(What, is, the, step, by, step, guide, to, inv...</td>\n",
       "    </tr>\n",
       "    <tr>\n",
       "      <th>1</th>\n",
       "      <td>1</td>\n",
       "      <td>3</td>\n",
       "      <td>4</td>\n",
       "      <td>What is the story of Kohinoor (Koh-i-Noor) Dia...</td>\n",
       "      <td>What would happen if the Indian government sto...</td>\n",
       "      <td>0</td>\n",
       "      <td>What is the story of Kohinoor (Koh-i-Noor) Dia...</td>\n",
       "      <td>What would happen if the Indian government sto...</td>\n",
       "      <td>(What, is, the, story, of, Kohinoor, (, Koh, -...</td>\n",
       "    </tr>\n",
       "    <tr>\n",
       "      <th>2</th>\n",
       "      <td>2</td>\n",
       "      <td>5</td>\n",
       "      <td>6</td>\n",
       "      <td>How can I increase the speed of my internet co...</td>\n",
       "      <td>How can Internet speed be increased by hacking...</td>\n",
       "      <td>0</td>\n",
       "      <td>How can I increase the speed of my internet co...</td>\n",
       "      <td>How can Internet speed be increased by hacking...</td>\n",
       "      <td>(How, can, I, increase, the, speed, of, my, in...</td>\n",
       "    </tr>\n",
       "    <tr>\n",
       "      <th>3</th>\n",
       "      <td>3</td>\n",
       "      <td>7</td>\n",
       "      <td>8</td>\n",
       "      <td>Why am I mentally very lonely? How can I solve...</td>\n",
       "      <td>Find the remainder when [math]23^{24}[/math] i...</td>\n",
       "      <td>0</td>\n",
       "      <td>Why am I mentally very lonely? How can I solve...</td>\n",
       "      <td>Find the remainder when [math]23^{24}[/math] i...</td>\n",
       "      <td>(Why, am, I, mentally, very, lonely, ?, How, c...</td>\n",
       "    </tr>\n",
       "    <tr>\n",
       "      <th>4</th>\n",
       "      <td>4</td>\n",
       "      <td>9</td>\n",
       "      <td>10</td>\n",
       "      <td>Which one dissolve in water quikly sugar, salt...</td>\n",
       "      <td>Which fish would survive in salt water?</td>\n",
       "      <td>0</td>\n",
       "      <td>Which one dissolve in water quikly sugar, salt...</td>\n",
       "      <td>Which fish would survive in salt water?</td>\n",
       "      <td>(Which, one, dissolve, in, water, quikly, suga...</td>\n",
       "    </tr>\n",
       "  </tbody>\n",
       "</table>\n",
       "</div>"
      ],
      "text/plain": [
       "   id  qid1  qid2                                          question1  \\\n",
       "0   0     1     2  What is the step by step guide to invest in sh...   \n",
       "1   1     3     4  What is the story of Kohinoor (Koh-i-Noor) Dia...   \n",
       "2   2     5     6  How can I increase the speed of my internet co...   \n",
       "3   3     7     8  Why am I mentally very lonely? How can I solve...   \n",
       "4   4     9    10  Which one dissolve in water quikly sugar, salt...   \n",
       "\n",
       "                                           question2  is_duplicate  \\\n",
       "0  What is the step by step guide to invest in sh...             0   \n",
       "1  What would happen if the Indian government sto...             0   \n",
       "2  How can Internet speed be increased by hacking...             0   \n",
       "3  Find the remainder when [math]23^{24}[/math] i...             0   \n",
       "4            Which fish would survive in salt water?             0   \n",
       "\n",
       "                                          unicode_q1  \\\n",
       "0  What is the step by step guide to invest in sh...   \n",
       "1  What is the story of Kohinoor (Koh-i-Noor) Dia...   \n",
       "2  How can I increase the speed of my internet co...   \n",
       "3  Why am I mentally very lonely? How can I solve...   \n",
       "4  Which one dissolve in water quikly sugar, salt...   \n",
       "\n",
       "                                          unicode_q2  \\\n",
       "0  What is the step by step guide to invest in sh...   \n",
       "1  What would happen if the Indian government sto...   \n",
       "2  How can Internet speed be increased by hacking...   \n",
       "3  Find the remainder when [math]23^{24}[/math] i...   \n",
       "4            Which fish would survive in salt water?   \n",
       "\n",
       "                                           parsed_q1  \n",
       "0  (What, is, the, step, by, step, guide, to, inv...  \n",
       "1  (What, is, the, story, of, Kohinoor, (, Koh, -...  \n",
       "2  (How, can, I, increase, the, speed, of, my, in...  \n",
       "3  (Why, am, I, mentally, very, lonely, ?, How, c...  \n",
       "4  (Which, one, dissolve, in, water, quikly, suga...  "
      ]
     },
     "execution_count": 23,
     "metadata": {},
     "output_type": "execute_result"
    }
   ],
   "source": [
    "df_samp.head()"
   ]
  },
  {
   "cell_type": "code",
   "execution_count": 24,
   "metadata": {
    "collapsed": false,
    "scrolled": true
   },
   "outputs": [
    {
     "name": "stderr",
     "output_type": "stream",
     "text": [
      "C:\\Users\\sarma_tvxkwyx\\Anaconda2\\lib\\site-packages\\gensim\\utils.py:860: UserWarning:\n",
      "\n",
      "detected Windows; aliasing chunkize to chunkize_serial\n",
      "\n"
     ]
    }
   ],
   "source": [
    "from gensim.models import Phrases\n",
    "from gensim.models.word2vec import LineSentence"
   ]
  },
  {
   "cell_type": "code",
   "execution_count": 25,
   "metadata": {
    "collapsed": false
   },
   "outputs": [
    {
     "data": {
      "text/plain": [
       "'C:\\\\Users\\\\sarma_tvxkwyx'"
      ]
     },
     "execution_count": 25,
     "metadata": {},
     "output_type": "execute_result"
    }
   ],
   "source": [
    "os.getcwd()"
   ]
  },
  {
   "cell_type": "code",
   "execution_count": 26,
   "metadata": {
    "collapsed": true
   },
   "outputs": [],
   "source": [
    "import codecs\n",
    "qtext_filepath = r'qtext.txt'"
   ]
  },
  {
   "cell_type": "code",
   "execution_count": 27,
   "metadata": {
    "collapsed": false
   },
   "outputs": [
    {
     "name": "stdout",
     "output_type": "stream",
     "text": [
      "Wall time: 0 ns\n"
     ]
    }
   ],
   "source": [
    "%%time\n",
    "\n",
    "if 0==1:\n",
    "\n",
    "    with codecs.open(qtext_filepath, 'w', encoding='utf_8') as f:\n",
    "            for sentence in df.unicode_q1.values:\n",
    "                sentence = sentence.replace('\\n', ' ')\n",
    "                f.write(sentence + '\\n')\n",
    "            for sentence in df.unicode_q2.values:\n",
    "                sentence = sentence.replace('\\n', ' ')\n",
    "                f.write(sentence + '\\n')\n",
    "    "
   ]
  },
  {
   "cell_type": "code",
   "execution_count": 28,
   "metadata": {
    "collapsed": true
   },
   "outputs": [],
   "source": [
    "def punct_space(token):\n",
    "    \"\"\"\n",
    "    helper function to eliminate tokens\n",
    "    that are pure punctuation or whitespace\n",
    "    \"\"\"\n",
    "    \n",
    "    return token.is_punct or token.is_space\n",
    "\n",
    "def get_qline(filename):\n",
    "    \"\"\"\n",
    "    generator function to read in questions from the file\n",
    "    and un-escape the original line breaks in the text\n",
    "    \"\"\"\n",
    "    \n",
    "    with codecs.open(filename, encoding='utf_8') as f:\n",
    "        for sent in f:\n",
    "            sent = sent.replace('\\n', '')\n",
    "            yield sent\n",
    "            \n",
    "def lemmatized_sentence_corpus(filename):\n",
    "    \"\"\"\n",
    "    generator function to use spaCy to parse questions,\n",
    "    lemmatize the text, and yield sentences\n",
    "    \"\"\"\n",
    "    \n",
    "    for parsed_question in nlp.pipe(get_qline(filename),\n",
    "                                  batch_size=10000, n_threads=-1):\n",
    "        sent_out = []\n",
    "        for sent in parsed_question.sents:\n",
    "            for token in sent:\n",
    "                if not punct_space(token):\n",
    "                    sent_out.append(token.lemma_)\n",
    "        yield u' '.join(sent_out)\n",
    "#        yield u' '.join([token.lemma_ for token in (sent for sent in parsed_question.sents)\n",
    "#                             if not punct_space(token)])"
   ]
  },
  {
   "cell_type": "code",
   "execution_count": 29,
   "metadata": {
    "collapsed": false
   },
   "outputs": [
    {
     "data": {
      "text/plain": [
       "[1, 2, 3, 4]"
      ]
     },
     "execution_count": 29,
     "metadata": {},
     "output_type": "execute_result"
    }
   ],
   "source": [
    "a = [1, 2, 3]\n",
    "a.append(4)\n",
    "a"
   ]
  },
  {
   "cell_type": "code",
   "execution_count": 30,
   "metadata": {
    "collapsed": false
   },
   "outputs": [],
   "source": [
    "unigram_sentences_filepath = r'unigram_sentences_all.txt'"
   ]
  },
  {
   "cell_type": "code",
   "execution_count": 31,
   "metadata": {
    "collapsed": false
   },
   "outputs": [
    {
     "name": "stdout",
     "output_type": "stream",
     "text": [
      "808580\n"
     ]
    }
   ],
   "source": [
    "with codecs.open(qtext_filepath, encoding='utf_8') as f:\n",
    "    print sum((1 for _ in f))"
   ]
  },
  {
   "cell_type": "code",
   "execution_count": 32,
   "metadata": {
    "collapsed": false
   },
   "outputs": [
    {
     "name": "stdout",
     "output_type": "stream",
     "text": [
      "808580\n"
     ]
    }
   ],
   "source": [
    "print sum((1 for _ in get_qline(qtext_filepath)))"
   ]
  },
  {
   "cell_type": "code",
   "execution_count": 33,
   "metadata": {
    "collapsed": false
   },
   "outputs": [
    {
     "name": "stdout",
     "output_type": "stream",
     "text": [
      "Wall time: 0 ns\n"
     ]
    }
   ],
   "source": [
    "%%time\n",
    "\n",
    "if 0==1:\n",
    "    with codecs.open(unigram_sentences_filepath, 'w', encoding='utf_8') as f:\n",
    "        for sentence in lemmatized_sentence_corpus(qtext_filepath):\n",
    "            #sentence = sentence.replace('\\n', '')\n",
    "            f.write(sentence + '\\n')"
   ]
  },
  {
   "cell_type": "code",
   "execution_count": 34,
   "metadata": {
    "collapsed": true
   },
   "outputs": [],
   "source": [
    "def wc_l(filename):\n",
    "    \"\"\" returns number of lines in file \"\"\"\n",
    "    with open(filename) as fin:\n",
    "        return sum((1 for _ in fin))"
   ]
  },
  {
   "cell_type": "code",
   "execution_count": 35,
   "metadata": {
    "collapsed": false
   },
   "outputs": [
    {
     "data": {
      "text/plain": [
       "404290"
      ]
     },
     "execution_count": 35,
     "metadata": {},
     "output_type": "execute_result"
    }
   ],
   "source": [
    "wc_l(unigram_sentences_filepath)/2"
   ]
  },
  {
   "cell_type": "code",
   "execution_count": 36,
   "metadata": {
    "collapsed": true
   },
   "outputs": [],
   "source": [
    "class MyLineSentence(object):\n",
    "    def __init__(self, filename):\n",
    "        self.filename = filename\n",
    "    def __iter__(self):\n",
    "        with codecs.open(self.filename, 'r', encoding='utf_8') as f:\n",
    "            for line in f:\n",
    "                line.replace('\\n', '')\n",
    "                yield line.split()"
   ]
  },
  {
   "cell_type": "code",
   "execution_count": 37,
   "metadata": {
    "collapsed": true
   },
   "outputs": [],
   "source": [
    "unigram_sentences = MyLineSentence(unigram_sentences_filepath)"
   ]
  },
  {
   "cell_type": "code",
   "execution_count": 38,
   "metadata": {
    "collapsed": true
   },
   "outputs": [],
   "source": [
    "import itertools as it"
   ]
  },
  {
   "cell_type": "code",
   "execution_count": 39,
   "metadata": {
    "collapsed": false
   },
   "outputs": [
    {
     "name": "stdout",
     "output_type": "stream",
     "text": [
      "how can -PRON- recover -PRON- gmail password\n",
      "\n",
      "how accurately can a mental illness can be diagnose\n",
      "\n",
      "be knee pain in a 20 year old girl normal\n",
      "\n",
      "what be the quality of a good leader\n",
      "\n",
      "what be the difference between bay gulf and strait\n",
      "\n",
      "will modi win in 2019\n",
      "\n",
      "how can -PRON- open dmart store in india be there any franchise for that\n",
      "\n",
      "what be the good youtube channel to learn medicine\n",
      "\n",
      "do swami vivekananda ever eat non veg or egg during -PRON- journey around the world\n",
      "\n",
      "what will happen if -PRON- cancel tqwl ticket before the charting be do\n",
      "\n"
     ]
    }
   ],
   "source": [
    "for unigram_sentence in it.islice(unigram_sentences, 250, 260):\n",
    "    print u' '.join(unigram_sentence)\n",
    "    print u''"
   ]
  },
  {
   "cell_type": "code",
   "execution_count": 40,
   "metadata": {
    "collapsed": true
   },
   "outputs": [],
   "source": [
    "bigram_model_filepath = r'bigram_model_all'"
   ]
  },
  {
   "cell_type": "code",
   "execution_count": 41,
   "metadata": {
    "collapsed": false
   },
   "outputs": [
    {
     "name": "stdout",
     "output_type": "stream",
     "text": [
      "Wall time: 1.38 s\n"
     ]
    }
   ],
   "source": [
    "%%time\n",
    "\n",
    "if 0==1:\n",
    "    bigram_model = Phrases(unigram_sentences)\n",
    "    bigram_model.save(bigram_model_filepath)\n",
    "\n",
    "# load the finished model from disk\n",
    "bigram_model = Phrases.load(bigram_model_filepath)"
   ]
  },
  {
   "cell_type": "code",
   "execution_count": 42,
   "metadata": {
    "collapsed": true
   },
   "outputs": [],
   "source": [
    "bigram_sentences_filepath = r'bigram_sentences_all.txt'"
   ]
  },
  {
   "cell_type": "code",
   "execution_count": 43,
   "metadata": {
    "collapsed": false
   },
   "outputs": [
    {
     "name": "stdout",
     "output_type": "stream",
     "text": [
      "Wall time: 0 ns\n"
     ]
    }
   ],
   "source": [
    "%%time\n",
    "\n",
    "if 0==1:\n",
    "\n",
    "    with codecs.open(bigram_sentences_filepath, 'w', encoding='utf_8') as f:\n",
    "        for unigram_sentence in unigram_sentences:\n",
    "            bigram_sentence = u' '.join(bigram_model[unigram_sentence])\n",
    "            bigram_sentence = bigram_sentence.replace('\\n', '')\n",
    "            f.write(bigram_sentence + '\\n')"
   ]
  },
  {
   "cell_type": "code",
   "execution_count": 44,
   "metadata": {
    "collapsed": false
   },
   "outputs": [
    {
     "data": {
      "text/plain": [
       "404290"
      ]
     },
     "execution_count": 44,
     "metadata": {},
     "output_type": "execute_result"
    }
   ],
   "source": [
    "wc_l(bigram_sentences_filepath)/2"
   ]
  },
  {
   "cell_type": "code",
   "execution_count": 45,
   "metadata": {
    "collapsed": true
   },
   "outputs": [],
   "source": [
    "bigram_sentences = MyLineSentence(bigram_sentences_filepath)"
   ]
  },
  {
   "cell_type": "code",
   "execution_count": 46,
   "metadata": {
    "collapsed": false
   },
   "outputs": [
    {
     "name": "stdout",
     "output_type": "stream",
     "text": [
      "how can -PRON- recover -PRON- gmail_password\n",
      "\n",
      "how accurately can a mental_illness can be diagnose\n",
      "\n",
      "be knee_pain in a 20_year old girl normal\n",
      "\n",
      "what be the quality of a good leader\n",
      "\n",
      "what be the difference_between bay gulf and strait\n",
      "\n",
      "will modi win in 2019\n",
      "\n",
      "how can -PRON- open dmart store in india be there_any franchise for that\n",
      "\n",
      "what be the good youtube_channel to learn medicine\n",
      "\n",
      "do swami_vivekananda ever eat non_veg or egg during -PRON- journey around the world\n",
      "\n",
      "what will happen if -PRON- cancel_tqwl ticket before the charting be do\n",
      "\n"
     ]
    }
   ],
   "source": [
    "for bigram_sentence in it.islice(bigram_sentences, 250, 260):\n",
    "    print u' '.join(bigram_sentence)\n",
    "    print u''"
   ]
  },
  {
   "cell_type": "code",
   "execution_count": 47,
   "metadata": {
    "collapsed": true
   },
   "outputs": [],
   "source": [
    "trigram_model_filepath = r'trigram_model.txt'"
   ]
  },
  {
   "cell_type": "code",
   "execution_count": 48,
   "metadata": {
    "collapsed": false
   },
   "outputs": [
    {
     "name": "stdout",
     "output_type": "stream",
     "text": [
      "Wall time: 1.49 s\n"
     ]
    }
   ],
   "source": [
    "%%time\n",
    "\n",
    "if 0==1:\n",
    "    trigram_model = Phrases(bigram_sentences)\n",
    "    trigram_model.save(trigram_model_filepath)\n",
    "    \n",
    "# load the finished model from disk\n",
    "trigram_model = Phrases.load(trigram_model_filepath)"
   ]
  },
  {
   "cell_type": "code",
   "execution_count": 49,
   "metadata": {
    "collapsed": true
   },
   "outputs": [],
   "source": [
    "trigram_sentences_filepath = r'trigram_sentences_all.txt'"
   ]
  },
  {
   "cell_type": "code",
   "execution_count": 50,
   "metadata": {
    "collapsed": false
   },
   "outputs": [
    {
     "name": "stdout",
     "output_type": "stream",
     "text": [
      "Wall time: 0 ns\n"
     ]
    }
   ],
   "source": [
    "%%time\n",
    "\n",
    "if 0==1:\n",
    "    with codecs.open(trigram_sentences_filepath, 'w', encoding='utf_8') as f:\n",
    "        for bigram_sentence in bigram_sentences:\n",
    "            trigram_sentence = u' '.join(trigram_model[bigram_sentence])\n",
    "            f.write(trigram_sentence + '\\n')"
   ]
  },
  {
   "cell_type": "code",
   "execution_count": 51,
   "metadata": {
    "collapsed": false
   },
   "outputs": [
    {
     "data": {
      "text/plain": [
       "404290"
      ]
     },
     "execution_count": 51,
     "metadata": {},
     "output_type": "execute_result"
    }
   ],
   "source": [
    "wc_l(trigram_sentences_filepath)/2"
   ]
  },
  {
   "cell_type": "code",
   "execution_count": 52,
   "metadata": {
    "collapsed": true
   },
   "outputs": [],
   "source": [
    "trigram_sentences = MyLineSentence(trigram_sentences_filepath)"
   ]
  },
  {
   "cell_type": "code",
   "execution_count": 53,
   "metadata": {
    "collapsed": false,
    "scrolled": true
   },
   "outputs": [
    {
     "name": "stdout",
     "output_type": "stream",
     "text": [
      "how can -PRON- recover -PRON- gmail_password\n",
      "\n",
      "how accurately can a mental_illness can be diagnose\n",
      "\n",
      "be knee_pain in a 20_year_old girl normal\n",
      "\n",
      "what be the quality of a good leader\n",
      "\n",
      "what be the difference_between bay gulf and strait\n",
      "\n",
      "will modi win in 2019\n",
      "\n",
      "how can -PRON- open dmart store in india be there_any franchise for that\n",
      "\n",
      "what be the good youtube_channel to learn medicine\n",
      "\n",
      "do swami_vivekananda ever eat_non_veg or egg during -PRON- journey around the world\n",
      "\n",
      "what will happen if -PRON- cancel_tqwl_ticket before the charting be do\n",
      "\n"
     ]
    }
   ],
   "source": [
    "for trigram_sentence in it.islice(trigram_sentences, 250, 260):\n",
    "    print u' '.join(trigram_sentence)\n",
    "    print u''"
   ]
  },
  {
   "cell_type": "code",
   "execution_count": 54,
   "metadata": {
    "collapsed": true
   },
   "outputs": [],
   "source": [
    "trigram_questions_filepath = r'trigram_transformed_questions_all.txt'"
   ]
  },
  {
   "cell_type": "code",
   "execution_count": 55,
   "metadata": {
    "collapsed": false
   },
   "outputs": [
    {
     "name": "stdout",
     "output_type": "stream",
     "text": [
      "Wall time: 1e+03 µs\n"
     ]
    }
   ],
   "source": [
    "%%time\n",
    "\n",
    "if 0==1:\n",
    "\n",
    "    with codecs.open(trigram_questions_filepath, 'w', encoding='utf_8') as f:\n",
    "        for trigram_sentence in trigram_sentences:\n",
    "            # remove any remaining stopwords\n",
    "            trigram_question = [term for term in trigram_sentence\n",
    "                              if term not in spacy.en.STOP_WORDS]\n",
    "\n",
    "            # write the transformed question as a line in the new file\n",
    "            trigram_question = u' '.join(trigram_question)\n",
    "            f.write(trigram_question + '\\n')"
   ]
  },
  {
   "cell_type": "code",
   "execution_count": 56,
   "metadata": {
    "collapsed": false
   },
   "outputs": [
    {
     "name": "stdout",
     "output_type": "stream",
     "text": [
      "-PRON- recover -PRON- gmail_password\n",
      "\n",
      "accurately mental_illness diagnose\n",
      "\n",
      "knee_pain 20_year_old girl normal\n",
      "\n",
      "quality good leader\n",
      "\n",
      "difference_between bay gulf strait\n",
      "\n",
      "modi win 2019\n",
      "\n",
      "-PRON- open dmart store india there_any franchise\n",
      "\n",
      "good youtube_channel learn medicine\n",
      "\n",
      "swami_vivekananda eat_non_veg egg -PRON- journey world\n",
      "\n",
      "happen -PRON- cancel_tqwl_ticket charting\n",
      "\n"
     ]
    }
   ],
   "source": [
    "with codecs.open(trigram_questions_filepath, encoding='utf_8') as f:\n",
    "    for question in it.islice(f, 250, 260):\n",
    "        print question"
   ]
  },
  {
   "cell_type": "code",
   "execution_count": 57,
   "metadata": {
    "collapsed": false
   },
   "outputs": [],
   "source": [
    "from gensim.corpora import Dictionary, MmCorpus\n",
    "from gensim.models.ldamulticore import LdaMulticore\n",
    "\n",
    "import pyLDAvis\n",
    "import pyLDAvis.gensim\n",
    "import warnings\n",
    "import cPickle as pickle"
   ]
  },
  {
   "cell_type": "code",
   "execution_count": 58,
   "metadata": {
    "collapsed": true
   },
   "outputs": [],
   "source": [
    "trigram_dictionary_filepath = r'trigram_dict_all.dict'"
   ]
  },
  {
   "cell_type": "code",
   "execution_count": 59,
   "metadata": {
    "collapsed": false
   },
   "outputs": [
    {
     "name": "stdout",
     "output_type": "stream",
     "text": [
      "Wall time: 206 ms\n"
     ]
    }
   ],
   "source": [
    "%%time\n",
    "if 0==1:\n",
    "    trigram_questions = LineSentence(trigram_questions_filepath)\n",
    "\n",
    "    # learn the dictionary by iterating over all of the questions\n",
    "    trigram_dictionary = Dictionary(trigram_questions)\n",
    "\n",
    "    # filter tokens that are very rare or too common from\n",
    "    # the dictionary (filter_extremes) and reassign integer ids (compactify)\n",
    "    trigram_dictionary.filter_extremes(no_below=10, no_above=0.4)\n",
    "    trigram_dictionary.compactify()\n",
    "\n",
    "    trigram_dictionary.save(trigram_dictionary_filepath)\n",
    "    \n",
    "# load the finished dictionary from disk\n",
    "trigram_dictionary = Dictionary.load(trigram_dictionary_filepath)"
   ]
  },
  {
   "cell_type": "code",
   "execution_count": 60,
   "metadata": {
    "collapsed": true
   },
   "outputs": [],
   "source": [
    "trigram_bow_filepath = r'trigram_bow_corpus_all.mm'"
   ]
  },
  {
   "cell_type": "code",
   "execution_count": 61,
   "metadata": {
    "collapsed": true
   },
   "outputs": [],
   "source": [
    "def trigram_bow_generator(filepath):\n",
    "    \"\"\"\n",
    "    generator function to read questions from a file\n",
    "    and yield a bag-of-words representation\n",
    "    \"\"\"\n",
    "    \n",
    "    for question in LineSentence(filepath):\n",
    "        yield trigram_dictionary.doc2bow(question)"
   ]
  },
  {
   "cell_type": "code",
   "execution_count": 62,
   "metadata": {
    "collapsed": false
   },
   "outputs": [
    {
     "name": "stdout",
     "output_type": "stream",
     "text": [
      "Wall time: 460 ms\n"
     ]
    }
   ],
   "source": [
    "%%time\n",
    "\n",
    "if 0==1:\n",
    "    # generate bag-of-words representations for\n",
    "    # all questions and save them as a matrix\n",
    "    MmCorpus.serialize(trigram_bow_filepath,\n",
    "                       trigram_bow_generator(trigram_questions_filepath))\n",
    "    \n",
    "# load the finished bag-of-words corpus from disk\n",
    "trigram_bow_corpus = MmCorpus(trigram_bow_filepath)"
   ]
  },
  {
   "cell_type": "code",
   "execution_count": 63,
   "metadata": {
    "collapsed": false
   },
   "outputs": [],
   "source": [
    "import gensim.models as models\n",
    "tfidf = models.TfidfModel(trigram_bow_corpus)\n",
    "corpus_tfidf = tfidf[trigram_bow_corpus]"
   ]
  },
  {
   "cell_type": "code",
   "execution_count": 64,
   "metadata": {
    "collapsed": true
   },
   "outputs": [],
   "source": [
    "lda_model_filepath = r'lda_model_all.m'"
   ]
  },
  {
   "cell_type": "code",
   "execution_count": 65,
   "metadata": {
    "collapsed": false
   },
   "outputs": [
    {
     "name": "stdout",
     "output_type": "stream",
     "text": [
      "Wall time: 490 ms\n"
     ]
    }
   ],
   "source": [
    "%%time\n",
    "\n",
    "if 0==1:\n",
    "    with warnings.catch_warnings():\n",
    "        warnings.simplefilter('ignore')\n",
    "\n",
    "        # workers => sets the parallelism, and should be\n",
    "        # set to your number of physical cores minus one\n",
    "        lda = LdaMulticore(trigram_bow_corpus,\n",
    "                           num_topics=50,\n",
    "                           id2word=trigram_dictionary,\n",
    "                           workers=7)\n",
    "\n",
    "    lda.save(lda_model_filepath)\n",
    "    \n",
    "# load the finished LDA model from disk\n",
    "lda = LdaMulticore.load(lda_model_filepath)"
   ]
  },
  {
   "cell_type": "code",
   "execution_count": 66,
   "metadata": {
    "collapsed": true
   },
   "outputs": [],
   "source": [
    "def explore_topic(topic_number, topn=25):\n",
    "    \"\"\"\n",
    "    accept a user-supplied topic number and\n",
    "    print out a formatted list of the top terms\n",
    "    \"\"\"\n",
    "        \n",
    "    print u'{:20} {}'.format(u'term', u'frequency') + u'\\n'\n",
    "\n",
    "    for term, frequency in lda.show_topic(topic_number, topn=25):\n",
    "        print u'{:20} {:.3f}'.format(term, round(frequency, 3))"
   ]
  },
  {
   "cell_type": "code",
   "execution_count": 67,
   "metadata": {
    "collapsed": false
   },
   "outputs": [
    {
     "name": "stdout",
     "output_type": "stream",
     "text": [
      "term                 frequency\n",
      "\n",
      "2015                 0.021\n",
      "drink                0.018\n",
      "sign                 0.017\n",
      "good                 0.015\n",
      "novel                0.014\n",
      "general              0.013\n",
      "donald_trump_win     0.013\n",
      "produce              0.012\n",
      "british              0.012\n",
      "candidate            0.011\n",
      "finance              0.011\n",
      "policy               0.010\n",
      "become_president     0.010\n",
      "donald_trump         0.010\n",
      "rest                 0.009\n",
      "living               0.009\n",
      "major_effect         0.009\n",
      "these_effect_compare 0.009\n",
      "cambodia_earthquake  0.009\n",
      "favourite            0.009\n",
      "cause                0.009\n",
      "wifi                 0.009\n",
      "b.tech               0.009\n",
      "standard             0.009\n",
      "react                0.008\n"
     ]
    }
   ],
   "source": [
    "explore_topic(topic_number=0)"
   ]
  },
  {
   "cell_type": "code",
   "execution_count": 68,
   "metadata": {
    "collapsed": false,
    "scrolled": true
   },
   "outputs": [
    {
     "name": "stdout",
     "output_type": "stream",
     "text": [
      "term                 frequency\n",
      "\n",
      "business             0.074\n",
      "good                 0.050\n",
      "2017                 0.032\n",
      "start                0.024\n",
      "+                    0.018\n",
      "restaurant           0.017\n",
      "run                  0.015\n",
      "system               0.015\n",
      "master               0.015\n",
      "python               0.014\n",
      "card                 0.014\n",
      "credit_card          0.013\n",
      "r                    0.012\n",
      "california           0.011\n",
      "new_year_resolution  0.011\n",
      "android_app          0.010\n",
      "player               0.009\n",
      "budget               0.008\n",
      "long                 0.008\n",
      "ias                  0.008\n",
      "find                 0.007\n",
      "profit               0.007\n",
      "san_francisco        0.007\n",
      "vehicle              0.006\n",
      "online               0.006\n"
     ]
    }
   ],
   "source": [
    "explore_topic(topic_number=2)"
   ]
  },
  {
   "cell_type": "code",
   "execution_count": 69,
   "metadata": {
    "collapsed": false
   },
   "outputs": [
    {
     "name": "stdout",
     "output_type": "stream",
     "text": [
      "term                 frequency\n",
      "\n",
      "difference_between   0.180\n",
      "500                  0.039\n",
      "important            0.036\n",
      "1000_rupee_note      0.031\n",
      "program              0.027\n",
      "ban                  0.024\n",
      "check                0.016\n",
      "type                 0.016\n",
      "paper                0.012\n",
      "material             0.011\n",
      "black_hole           0.011\n",
      "list                 0.010\n",
      "present              0.010\n",
      "result               0.010\n",
      "indian_government    0.009\n",
      "mass                 0.007\n",
      "analysis             0.006\n",
      "black_money          0.005\n",
      "find                 0.005\n",
      "light                0.005\n",
      "tree                 0.005\n",
      "gmail_account        0.005\n",
      "cs                   0.005\n",
      "1000_note            0.005\n",
      "e                    0.005\n"
     ]
    }
   ],
   "source": [
    "explore_topic(topic_number=3)"
   ]
  },
  {
   "cell_type": "code",
   "execution_count": 70,
   "metadata": {
    "collapsed": true
   },
   "outputs": [],
   "source": [
    "def get_trigram_question(question_number):\n",
    "    \"\"\"\n",
    "    retrieve a particular question index from the\n",
    "    trigram questions file and return it\n",
    "    \n",
    "    \"\"\"\n",
    "    with codecs.open(trigram_questions_filepath, encoding='utf_8') as f:\n",
    "        return list(it.islice(f, question_number, question_number+1))[0].split()"
   ]
  },
  {
   "cell_type": "code",
   "execution_count": 71,
   "metadata": {
    "collapsed": false
   },
   "outputs": [
    {
     "name": "stdout",
     "output_type": "stream",
     "text": [
      "[u'trump_presidency_mean', u'current', u'international_master_\\u2019s', u'student', u'f1_visa']\n"
     ]
    }
   ],
   "source": [
    "print get_trigram_question(15)"
   ]
  },
  {
   "cell_type": "code",
   "execution_count": 72,
   "metadata": {
    "collapsed": true
   },
   "outputs": [],
   "source": [
    "def lda_description(trigram_question, min_topic_freq=0.05):\n",
    "    \"\"\"\n",
    "    (1) create a bag-of-words\n",
    "    representation, (4) create an LDA representation, and\n",
    "    (5) print a sorted list of the top topics in the LDA representation\n",
    "    \"\"\"\n",
    "        \n",
    "    # create a bag-of-words representation\n",
    "    question_bow = trigram_dictionary.doc2bow(trigram_question)\n",
    "    \n",
    "    # create an LDA representation\n",
    "    question_lda = lda[question_bow]\n",
    "    \n",
    "    # sort with the most highly related topics first\n",
    "    question_lda = sorted(question_lda, key=lambda (topic_number, freq): -freq)\n",
    "    \n",
    "    print question_lda\n",
    "    \n",
    "    for topic_number, freq in question_lda:\n",
    "        if freq < min_topic_freq:\n",
    "            break\n",
    "            \n",
    "        # print the most highly related topic names and frequencies\n",
    "        print '{} {}'.format(topic_number,\n",
    "                                round(freq, 3))"
   ]
  },
  {
   "cell_type": "code",
   "execution_count": 73,
   "metadata": {
    "collapsed": false
   },
   "outputs": [
    {
     "name": "stdout",
     "output_type": "stream",
     "text": [
      "[(24, 0.63538784045855212), (17, 0.17261215954144959)]\n",
      "24 0.635\n",
      "17 0.173\n"
     ]
    }
   ],
   "source": [
    "lda_description(get_trigram_question(15))"
   ]
  },
  {
   "cell_type": "code",
   "execution_count": 74,
   "metadata": {
    "collapsed": false
   },
   "outputs": [],
   "source": [
    "def save_topic_data (fout, inp_list,num_elem):\n",
    "    temp_dict = dict(inp_list)\n",
    "    for i in xrange(num_elem):\n",
    "        if i in temp_dict.keys():\n",
    "            fout.write(str(temp_dict[i]) + ',')\n",
    "        else:\n",
    "            fout.write(str(0) + ',')\n",
    "    fout.write('\\n')"
   ]
  },
  {
   "cell_type": "code",
   "execution_count": 75,
   "metadata": {
    "collapsed": true
   },
   "outputs": [],
   "source": [
    "def save_topics_broad (fout, inp_l1, inp_l2, num_elem):\n",
    "    tdict_1 = dict(inp_l1)\n",
    "    tdict_2 = dict(inp_l2)\n",
    "    for i in xrange(num_elem):\n",
    "        if i in tdict_1.keys():\n",
    "            fout.write(str(tdict_1[i]) + ',')\n",
    "        else:\n",
    "            fout.write(str(0) + ',')\n",
    "    for i in xrange(num_elem):\n",
    "        if i in tdict_2.keys():\n",
    "            fout.write(str(tdict_2[i]) + ',')\n",
    "        else:\n",
    "            fout.write(str(0) + ',')\n",
    "    fout.write('\\n')"
   ]
  },
  {
   "cell_type": "code",
   "execution_count": 76,
   "metadata": {
    "collapsed": true
   },
   "outputs": [],
   "source": [
    "lda_data_filepath = r'lda_data_all.csv'"
   ]
  },
  {
   "cell_type": "code",
   "execution_count": 77,
   "metadata": {
    "collapsed": false
   },
   "outputs": [
    {
     "name": "stdout",
     "output_type": "stream",
     "text": [
      "Wall time: 0 ns\n"
     ]
    }
   ],
   "source": [
    "%%time\n",
    "\n",
    "if 1==0:\n",
    "\n",
    "    f_in = codecs.open(trigram_questions_filepath, encoding='utf_8')\n",
    "    f_out = codecs.open(lda_data_filepath, 'w', encoding='utf_8')\n",
    "\n",
    "    for f_line in f_in:\n",
    "        trigram_question = f_line.split()\n",
    "        # create a bag-of-words representation\n",
    "        question_bow = trigram_dictionary.doc2bow(trigram_question)\n",
    "\n",
    "        # create an LDA representation\n",
    "        question_lda = lda[question_bow]\n",
    "\n",
    "        # sort with the most highly related topics first\n",
    "        question_lda = sorted(question_lda, key=lambda (topic_number, freq): -freq)\n",
    "\n",
    "        save_lda_data(f_out, question_lda)\n"
   ]
  },
  {
   "cell_type": "code",
   "execution_count": 78,
   "metadata": {
    "collapsed": true
   },
   "outputs": [],
   "source": [
    "def lda_transform(question_text):\n",
    "    \"\"\"\n",
    "    accept the original text of a question and (1) parse it with spaCy,\n",
    "    (2) apply text pre-proccessing steps, (3) create a bag-of-words\n",
    "    representation, (4) create an LDA representation, and\n",
    "    (5) print a sorted list of the top topics in the LDA representation\n",
    "    \"\"\"\n",
    "    \n",
    "    # parse the question text with spaCy\n",
    "    parsed_question = nlp(question_text)\n",
    "    \n",
    "    # lemmatize the text and remove punctuation and whitespace\n",
    "    unigram_question = [token.lemma_ for token in parsed_question\n",
    "                      if not punct_space(token)]\n",
    "    \n",
    "    # apply the first-order and secord-order phrase models\n",
    "    bigram_question = bigram_model[unigram_question]\n",
    "    trigram_question = trigram_model[bigram_question]\n",
    "    \n",
    "    # remove any remaining stopwords\n",
    "    trigram_question = [term for term in trigram_question\n",
    "                      if not term in spacy.en.STOP_WORDS]\n",
    "    \n",
    "    # create a bag-of-words representation\n",
    "    question_bow = trigram_dictionary.doc2bow(trigram_question)\n",
    "    \n",
    "    # create an LDA representation\n",
    "    question_lda = lda[question_bow]\n",
    "    \n",
    "    # sort with the most highly related topics first\n",
    "    question_lda = sorted(question_lda, key=lambda (topic_number, freq): -freq)\n",
    "    \n",
    "    return question_lda"
   ]
  },
  {
   "cell_type": "code",
   "execution_count": 79,
   "metadata": {
    "collapsed": false
   },
   "outputs": [
    {
     "data": {
      "text/html": [
       "<div>\n",
       "<style>\n",
       "    .dataframe thead tr:only-child th {\n",
       "        text-align: right;\n",
       "    }\n",
       "\n",
       "    .dataframe thead th {\n",
       "        text-align: left;\n",
       "    }\n",
       "\n",
       "    .dataframe tbody tr th {\n",
       "        vertical-align: top;\n",
       "    }\n",
       "</style>\n",
       "<table border=\"1\" class=\"dataframe\">\n",
       "  <thead>\n",
       "    <tr style=\"text-align: right;\">\n",
       "      <th></th>\n",
       "      <th>id</th>\n",
       "      <th>qid1</th>\n",
       "      <th>qid2</th>\n",
       "      <th>question1</th>\n",
       "      <th>question2</th>\n",
       "      <th>is_duplicate</th>\n",
       "      <th>unicode_q1</th>\n",
       "      <th>unicode_q2</th>\n",
       "    </tr>\n",
       "  </thead>\n",
       "  <tbody>\n",
       "    <tr>\n",
       "      <th>0</th>\n",
       "      <td>0</td>\n",
       "      <td>1</td>\n",
       "      <td>2</td>\n",
       "      <td>What is the step by step guide to invest in sh...</td>\n",
       "      <td>What is the step by step guide to invest in sh...</td>\n",
       "      <td>0</td>\n",
       "      <td>What is the step by step guide to invest in sh...</td>\n",
       "      <td>What is the step by step guide to invest in sh...</td>\n",
       "    </tr>\n",
       "    <tr>\n",
       "      <th>1</th>\n",
       "      <td>1</td>\n",
       "      <td>3</td>\n",
       "      <td>4</td>\n",
       "      <td>What is the story of Kohinoor (Koh-i-Noor) Dia...</td>\n",
       "      <td>What would happen if the Indian government sto...</td>\n",
       "      <td>0</td>\n",
       "      <td>What is the story of Kohinoor (Koh-i-Noor) Dia...</td>\n",
       "      <td>What would happen if the Indian government sto...</td>\n",
       "    </tr>\n",
       "    <tr>\n",
       "      <th>2</th>\n",
       "      <td>2</td>\n",
       "      <td>5</td>\n",
       "      <td>6</td>\n",
       "      <td>How can I increase the speed of my internet co...</td>\n",
       "      <td>How can Internet speed be increased by hacking...</td>\n",
       "      <td>0</td>\n",
       "      <td>How can I increase the speed of my internet co...</td>\n",
       "      <td>How can Internet speed be increased by hacking...</td>\n",
       "    </tr>\n",
       "    <tr>\n",
       "      <th>3</th>\n",
       "      <td>3</td>\n",
       "      <td>7</td>\n",
       "      <td>8</td>\n",
       "      <td>Why am I mentally very lonely? How can I solve...</td>\n",
       "      <td>Find the remainder when [math]23^{24}[/math] i...</td>\n",
       "      <td>0</td>\n",
       "      <td>Why am I mentally very lonely? How can I solve...</td>\n",
       "      <td>Find the remainder when [math]23^{24}[/math] i...</td>\n",
       "    </tr>\n",
       "    <tr>\n",
       "      <th>4</th>\n",
       "      <td>4</td>\n",
       "      <td>9</td>\n",
       "      <td>10</td>\n",
       "      <td>Which one dissolve in water quikly sugar, salt...</td>\n",
       "      <td>Which fish would survive in salt water?</td>\n",
       "      <td>0</td>\n",
       "      <td>Which one dissolve in water quikly sugar, salt...</td>\n",
       "      <td>Which fish would survive in salt water?</td>\n",
       "    </tr>\n",
       "  </tbody>\n",
       "</table>\n",
       "</div>"
      ],
      "text/plain": [
       "   id  qid1  qid2                                          question1  \\\n",
       "0   0     1     2  What is the step by step guide to invest in sh...   \n",
       "1   1     3     4  What is the story of Kohinoor (Koh-i-Noor) Dia...   \n",
       "2   2     5     6  How can I increase the speed of my internet co...   \n",
       "3   3     7     8  Why am I mentally very lonely? How can I solve...   \n",
       "4   4     9    10  Which one dissolve in water quikly sugar, salt...   \n",
       "\n",
       "                                           question2  is_duplicate  \\\n",
       "0  What is the step by step guide to invest in sh...             0   \n",
       "1  What would happen if the Indian government sto...             0   \n",
       "2  How can Internet speed be increased by hacking...             0   \n",
       "3  Find the remainder when [math]23^{24}[/math] i...             0   \n",
       "4            Which fish would survive in salt water?             0   \n",
       "\n",
       "                                          unicode_q1  \\\n",
       "0  What is the step by step guide to invest in sh...   \n",
       "1  What is the story of Kohinoor (Koh-i-Noor) Dia...   \n",
       "2  How can I increase the speed of my internet co...   \n",
       "3  Why am I mentally very lonely? How can I solve...   \n",
       "4  Which one dissolve in water quikly sugar, salt...   \n",
       "\n",
       "                                          unicode_q2  \n",
       "0  What is the step by step guide to invest in sh...  \n",
       "1  What would happen if the Indian government sto...  \n",
       "2  How can Internet speed be increased by hacking...  \n",
       "3  Find the remainder when [math]23^{24}[/math] i...  \n",
       "4            Which fish would survive in salt water?  "
      ]
     },
     "execution_count": 79,
     "metadata": {},
     "output_type": "execute_result"
    }
   ],
   "source": [
    "df.head()"
   ]
  },
  {
   "cell_type": "code",
   "execution_count": 80,
   "metadata": {
    "collapsed": false
   },
   "outputs": [
    {
     "data": {
      "text/plain": [
       "(404290, 8)"
      ]
     },
     "execution_count": 80,
     "metadata": {},
     "output_type": "execute_result"
    }
   ],
   "source": [
    "df.shape"
   ]
  },
  {
   "cell_type": "code",
   "execution_count": 10,
   "metadata": {
    "collapsed": true
   },
   "outputs": [],
   "source": [
    "from tqdm import tqdm_notebook as tqdm"
   ]
  },
  {
   "cell_type": "code",
   "execution_count": 82,
   "metadata": {
    "collapsed": true
   },
   "outputs": [],
   "source": [
    "lda_data50_filepath = r'lda_data50_all.csv'"
   ]
  },
  {
   "cell_type": "code",
   "execution_count": 83,
   "metadata": {
    "collapsed": false
   },
   "outputs": [],
   "source": [
    "if 1==0:\n",
    "    n_pairs = len(df)\n",
    "    batch_size = 1000\n",
    "    with codecs.open(lda_data50_filepath, 'w', encoding='utf_8') as f_out:\n",
    "        for i in tqdm(xrange(1, n_pairs/batch_size)):\n",
    "            df_batch = df.iloc[(i-1)*batch_size:i*batch_size,:].copy()\n",
    "            df_batch['q1_lda'] = df_batch['unicode_q1'].apply(lda_transform)\n",
    "            df_batch['q2_lda'] = df_batch['unicode_q2'].apply(lda_transform)\n",
    "            for question_lda in df_batch.q1_lda.values:\n",
    "                save_topic_data(f_out, question_lda,50)\n",
    "            for question_lda in df_batch.q2_lda.values:\n",
    "                save_topic_data(f_out, question_lda,50)"
   ]
  },
  {
   "cell_type": "code",
   "execution_count": 84,
   "metadata": {
    "collapsed": true
   },
   "outputs": [],
   "source": [
    "if 1==0:\n",
    "    with codecs.open(lda_data50_filepath, 'a', encoding='utf_8') as f_out:\n",
    "        df_batch = df.iloc[i*batch_size:,:].copy()\n",
    "        df_batch['q1_lda'] = df_batch['unicode_q1'].apply(lda_transform)\n",
    "        df_batch['q2_lda'] = df_batch['unicode_q2'].apply(lda_transform)\n",
    "        for question_lda in df_batch.q1_lda.values:\n",
    "            save_topic_data(f_out, question_lda,50)\n",
    "        for question_lda in df_batch.q2_lda.values:\n",
    "            save_topic_data(f_out, question_lda,50)"
   ]
  },
  {
   "cell_type": "code",
   "execution_count": 85,
   "metadata": {
    "collapsed": true
   },
   "outputs": [],
   "source": [
    "lda_data50b_filepath = r'lda_data50b_all.csv'"
   ]
  },
  {
   "cell_type": "code",
   "execution_count": 86,
   "metadata": {
    "collapsed": false
   },
   "outputs": [],
   "source": [
    "if 0==1:\n",
    "    n_pairs = len(df)\n",
    "    batch_size = 1000\n",
    "    with codecs.open(lda_data50b_filepath, 'w', encoding='utf_8') as f_out:\n",
    "        for i in tqdm(xrange(1, n_pairs/batch_size)):\n",
    "            df_batch = df.iloc[(i-1)*batch_size:i*batch_size,:].copy()\n",
    "            df_batch['q1_lda'] = df_batch['unicode_q1'].apply(lda_transform)\n",
    "            df_batch['q2_lda'] = df_batch['unicode_q2'].apply(lda_transform)\n",
    "            for q1, q2 in zip(df_batch.q1_lda.values, df_batch.q2_lda.values):\n",
    "                save_topics_broad(f_out, q1, q2, 50)"
   ]
  },
  {
   "cell_type": "code",
   "execution_count": 87,
   "metadata": {
    "collapsed": false
   },
   "outputs": [],
   "source": [
    "if 0==1:\n",
    "    with codecs.open(lda_data50b_filepath, 'a', encoding='utf_8') as f_out:\n",
    "        df_batch = df.iloc[i*batch_size:,:].copy()\n",
    "        df_batch['q1_lda'] = df_batch['unicode_q1'].apply(lda_transform)\n",
    "        df_batch['q2_lda'] = df_batch['unicode_q2'].apply(lda_transform)\n",
    "        for q1, q2 in zip(df_batch.q1_lda.values, df_batch.q2_lda.values):\n",
    "            save_topics_broad(f_out, q1, q2, 50)"
   ]
  },
  {
   "cell_type": "code",
   "execution_count": 88,
   "metadata": {
    "collapsed": true
   },
   "outputs": [],
   "source": [
    "lda_model300_filepath = r'lda_model_300_all.m'"
   ]
  },
  {
   "cell_type": "code",
   "execution_count": 89,
   "metadata": {
    "collapsed": false
   },
   "outputs": [
    {
     "name": "stdout",
     "output_type": "stream",
     "text": [
      "Wall time: 1.36 s\n"
     ]
    }
   ],
   "source": [
    "%%time\n",
    "\n",
    "if 0==1:\n",
    "    with warnings.catch_warnings():\n",
    "        warnings.simplefilter('ignore')\n",
    "\n",
    "        # workers => sets the parallelism, and should be\n",
    "        # set to your number of physical cores minus one\n",
    "        lda = LdaMulticore(trigram_bow_corpus,\n",
    "                           num_topics=300,\n",
    "                           id2word=trigram_dictionary,\n",
    "                           workers=7)\n",
    "\n",
    "    lda.save(lda_model300_filepath)\n",
    "    \n",
    "# load the finished LDA model from disk\n",
    "lda = LdaMulticore.load(lda_model300_filepath)"
   ]
  },
  {
   "cell_type": "code",
   "execution_count": 90,
   "metadata": {
    "collapsed": true
   },
   "outputs": [],
   "source": [
    "lda_data300_filepath = r'lda_data300_all.csv'"
   ]
  },
  {
   "cell_type": "code",
   "execution_count": 91,
   "metadata": {
    "collapsed": false
   },
   "outputs": [],
   "source": [
    "if 1==0:\n",
    "    n_pairs = len(df)\n",
    "    batch_size = 1000\n",
    "    with codecs.open(lda_data300_filepath, 'w', encoding='utf_8') as f_out:\n",
    "        for i in tqdm(xrange(1, n_pairs/batch_size)):\n",
    "            df_batch = df.iloc[(i-1)*batch_size:i*batch_size,:].copy()\n",
    "            df_batch['q1_lda'] = df_batch['unicode_q1'].apply(lda_transform)\n",
    "            df_batch['q2_lda'] = df_batch['unicode_q2'].apply(lda_transform)\n",
    "            for question_lda in df_batch.q1_lda.values:\n",
    "                save_topic_data(f_out, question_lda, 300)\n",
    "            for question_lda in df_batch.q2_lda.values:\n",
    "                save_topic_data(f_out, question_lda, 300)"
   ]
  },
  {
   "cell_type": "code",
   "execution_count": 92,
   "metadata": {
    "collapsed": true
   },
   "outputs": [],
   "source": [
    "if 1==0:\n",
    "    with codecs.open(lda_data300_filepath, 'a', encoding='utf_8') as f_out:\n",
    "        df_batch = df.iloc[i*batch_size:,:].copy()\n",
    "        df_batch['q1_lda'] = df_batch['unicode_q1'].apply(lda_transform)\n",
    "        df_batch['q2_lda'] = df_batch['unicode_q2'].apply(lda_transform)\n",
    "        for question_lda in df_batch.q1_lda.values:\n",
    "            save_topic_data(f_out, question_lda, 300)\n",
    "        for question_lda in df_batch.q2_lda.values:\n",
    "            save_topic_data(f_out, question_lda, 300)"
   ]
  },
  {
   "cell_type": "code",
   "execution_count": 93,
   "metadata": {
    "collapsed": true
   },
   "outputs": [],
   "source": [
    "lda_data300b_filepath = r'lda_data300b_all.csv'"
   ]
  },
  {
   "cell_type": "code",
   "execution_count": 94,
   "metadata": {
    "collapsed": false
   },
   "outputs": [],
   "source": [
    "if 0==1:\n",
    "    n_pairs = len(df)\n",
    "    batch_size = 1000\n",
    "    with codecs.open(lda_data300b_filepath, 'w', encoding='utf_8') as f_out:\n",
    "        for i in tqdm(xrange(1, n_pairs/batch_size)):\n",
    "            df_batch = df.iloc[(i-1)*batch_size:i*batch_size,:].copy()\n",
    "            df_batch['q1_lda'] = df_batch['unicode_q1'].apply(lda_transform)\n",
    "            df_batch['q2_lda'] = df_batch['unicode_q2'].apply(lda_transform)\n",
    "            for q1, q2 in zip(df_batch.q1_lda.values, df_batch.q2_lda.values):\n",
    "                save_topics_broad(f_out, q1, q2, 300)"
   ]
  },
  {
   "cell_type": "code",
   "execution_count": 95,
   "metadata": {
    "collapsed": true
   },
   "outputs": [],
   "source": [
    "if 0==1:\n",
    "    with codecs.open(lda_data300b_filepath, 'a', encoding='utf_8') as f_out:\n",
    "        df_batch = df.iloc[i*batch_size:,:].copy()\n",
    "        df_batch['q1_lda'] = df_batch['unicode_q1'].apply(lda_transform)\n",
    "        df_batch['q2_lda'] = df_batch['unicode_q2'].apply(lda_transform)\n",
    "        for q1, q2 in zip(df_batch.q1_lda.values, df_batch.q2_lda.values):\n",
    "            save_topics_broad(f_out, q1, q2, 300)"
   ]
  },
  {
   "cell_type": "code",
   "execution_count": 96,
   "metadata": {
    "collapsed": true
   },
   "outputs": [],
   "source": [
    "lsi_model_filepath = r'lsi_model_all.m'"
   ]
  },
  {
   "cell_type": "code",
   "execution_count": 97,
   "metadata": {
    "collapsed": false
   },
   "outputs": [],
   "source": [
    "from gensim.models.lsimodel import LsiModel"
   ]
  },
  {
   "cell_type": "code",
   "execution_count": 98,
   "metadata": {
    "collapsed": false,
    "scrolled": true
   },
   "outputs": [
    {
     "name": "stdout",
     "output_type": "stream",
     "text": [
      "Wall time: 684 ms\n"
     ]
    }
   ],
   "source": [
    "%%time\n",
    "\n",
    "if 0==1:\n",
    "    #import logging\n",
    "    #logging.basicConfig(format='%(asctime)s : %(levelname)s : %(message)s', level=logging.INFO)\n",
    "    #logger = logging.getLogger()\n",
    "    #logger.propagate = False\n",
    "    with warnings.catch_warnings():\n",
    "        warnings.simplefilter('ignore')\n",
    "\n",
    "        trigram_dictionary = Dictionary.load(trigram_dictionary_filepath)\n",
    "        lsi = LsiModel(corpus_tfidf,\n",
    "                           num_topics=300,\n",
    "                           id2word=trigram_dictionary,\n",
    "                           chunksize=2000)\n",
    "\n",
    "    lsi.save(lsi_model_filepath)\n",
    "    \n",
    "# load the finished Lsimodel from disk\n",
    "lsi = LsiModel.load(lsi_model_filepath)"
   ]
  },
  {
   "cell_type": "code",
   "execution_count": 99,
   "metadata": {
    "collapsed": true
   },
   "outputs": [],
   "source": [
    "def lsi_transform(question_text):\n",
    "    \"\"\"\n",
    "    accept the original text of a question and (1) parse it with spaCy,\n",
    "    (2) apply text pre-proccessing steps, (3) create a bag-of-words\n",
    "    representation, (4) create an LSI representation, and\n",
    "    (5) print a sorted list of the top topics in the LSI representation\n",
    "    \"\"\"\n",
    "    \n",
    "    # parse the question text with spaCy\n",
    "    parsed_question = nlp(question_text)\n",
    "    \n",
    "    # lemmatize the text and remove punctuation and whitespace\n",
    "    unigram_question = [token.lemma_ for token in parsed_question\n",
    "                      if not punct_space(token)]\n",
    "    \n",
    "    # apply the first-order and secord-order phrase models\n",
    "    bigram_question = bigram_model[unigram_question]\n",
    "    trigram_question = trigram_model[bigram_question]\n",
    "    \n",
    "    # remove any remaining stopwords\n",
    "    trigram_question = [term for term in trigram_question\n",
    "                      if not term in spacy.en.STOP_WORDS]\n",
    "    \n",
    "    # create a bag-of-words representation\n",
    "    question_bow = trigram_dictionary.doc2bow(trigram_question)\n",
    "    \n",
    "    question_tfidf = tfidf[question_bow]\n",
    "    \n",
    "    # create an Lsi representation\n",
    "    question_lsi = lsi[question_bow]\n",
    "    \n",
    "    # sort with the most highly related topics first\n",
    "    question_lsi = sorted(question_lsi, key=lambda (topic_number, freq): -freq)\n",
    "    \n",
    "    return question_lsi"
   ]
  },
  {
   "cell_type": "code",
   "execution_count": 100,
   "metadata": {
    "collapsed": true
   },
   "outputs": [],
   "source": [
    "lsi_data300_filepath = r'lsi_data300_all.csv'"
   ]
  },
  {
   "cell_type": "code",
   "execution_count": 101,
   "metadata": {
    "collapsed": false
   },
   "outputs": [],
   "source": [
    "# implement conversion in batches and keep saving the batch\n",
    "\n",
    "if 1==0:\n",
    "    n_pairs = len(df)\n",
    "    batch_size = 1000\n",
    "    with codecs.open(lsi_data300_filepath, 'w', encoding='utf_8') as f_out:\n",
    "        for i in tqdm(xrange(1, n_pairs/batch_size)):\n",
    "            df_batch = df.iloc[(i-1)*batch_size:i*batch_size,:].copy()\n",
    "            df_batch['q1_lsi'] = df_batch['unicode_q1'].apply(lsi_transform)\n",
    "            df_batch['q2_lsi'] = df_batch['unicode_q2'].apply(lsi_transform)\n",
    "            for question_lsi in df_batch.q1_lsi.values:\n",
    "                save_topic_data(f_out, question_lsi, 300)\n",
    "            for question_lsi in df_batch.q2_lsi.values:\n",
    "                save_topic_data(f_out, question_lsi, 300)\n",
    "                "
   ]
  },
  {
   "cell_type": "code",
   "execution_count": 102,
   "metadata": {
    "collapsed": true
   },
   "outputs": [],
   "source": [
    "if 1==0:\n",
    "    with codecs.open(lsi_data300_filepath, 'a', encoding='utf_8') as f_out:\n",
    "        df_batch = df.iloc[i*batch_size:,:].copy()\n",
    "        df_batch['q1_lsi'] = df_batch['unicode_q1'].apply(lsi_transform)\n",
    "        df_batch['q2_lsi'] = df_batch['unicode_q2'].apply(lsi_transform)\n",
    "        for question_lsi in df_batch.q1_lsi.values:\n",
    "            save_topic_data(f_out, question_lsi, 300)\n",
    "        for question_lsi in df_batch.q2_lsi.values:\n",
    "            save_topic_data(f_out, question_lsi, 300)"
   ]
  },
  {
   "cell_type": "code",
   "execution_count": 103,
   "metadata": {
    "collapsed": true
   },
   "outputs": [],
   "source": [
    "lsi_data300b_filepath = r'lsi_data300b_all.csv'"
   ]
  },
  {
   "cell_type": "code",
   "execution_count": 104,
   "metadata": {
    "collapsed": false
   },
   "outputs": [],
   "source": [
    "if 0==1:\n",
    "    n_pairs = len(df)\n",
    "    batch_size = 1000\n",
    "    with codecs.open(lsi_data300b_filepath, 'w', encoding='utf_8') as f_out:\n",
    "        for i in tqdm(xrange(1, n_pairs/batch_size)):\n",
    "            df_batch = df.iloc[(i-1)*batch_size:i*batch_size,:].copy()\n",
    "            df_batch['q1_lsi'] = df_batch['unicode_q1'].apply(lsi_transform)\n",
    "            df_batch['q2_lsi'] = df_batch['unicode_q2'].apply(lsi_transform)\n",
    "            for q1, q2 in zip(df_batch.q1_lsi.values, df_batch.q2_lsi.values):\n",
    "                save_topics_broad(f_out, q1, q2, 300)"
   ]
  },
  {
   "cell_type": "code",
   "execution_count": 105,
   "metadata": {
    "collapsed": true
   },
   "outputs": [],
   "source": [
    "if 0==1:\n",
    "    with codecs.open(lsi_data300b_filepath, 'a', encoding='utf_8') as f_out:\n",
    "        df_batch = df.iloc[i*batch_size:,:].copy()\n",
    "        df_batch['q1_lsi'] = df_batch['unicode_q1'].apply(lsi_transform)\n",
    "        df_batch['q2_lsi'] = df_batch['unicode_q2'].apply(lsi_transform)\n",
    "        for q1, q2 in zip(df_batch.q1_lsi.values, df_batch.q2_lsi.values):\n",
    "            save_topics_broad(f_out, q1, q2, 300)"
   ]
  },
  {
   "cell_type": "code",
   "execution_count": null,
   "metadata": {
    "collapsed": true
   },
   "outputs": [],
   "source": []
  },
  {
   "cell_type": "code",
   "execution_count": 12,
   "metadata": {
    "collapsed": true
   },
   "outputs": [],
   "source": [
    "d2v_model_filepath = r'd2v_model.m'"
   ]
  },
  {
   "cell_type": "code",
   "execution_count": 13,
   "metadata": {
    "collapsed": false
   },
   "outputs": [],
   "source": [
    "from gensim.models.doc2vec import TaggedLineDocument\n",
    "from gensim.models import Doc2Vec"
   ]
  },
  {
   "cell_type": "code",
   "execution_count": 14,
   "metadata": {
    "collapsed": true
   },
   "outputs": [],
   "source": [
    "trigram_questions_filepath = r'trigram_transformed_questions_all.txt'"
   ]
  },
  {
   "cell_type": "code",
   "execution_count": 15,
   "metadata": {
    "collapsed": false
   },
   "outputs": [
    {
     "name": "stdout",
     "output_type": "stream",
     "text": [
      "Wall time: 39min 11s\n"
     ]
    }
   ],
   "source": [
    "%%time\n",
    "\n",
    "if 1==1:\n",
    "    train_sentences = TaggedLineDocument(trigram_questions_filepath)\n",
    "    d2v_model = Doc2Vec(dm=1, dm_mean=1,\n",
    "                        size=400, window=10, negative=5, hs=0,\n",
    "                        min_count=2, alpha=0.025, \n",
    "                        min_alpha=0.001, iter=50,\n",
    "                        workers=7)\n",
    "    d2v_model.build_vocab(train_sentences)\n",
    "    d2v_model.train(train_sentences, total_examples=d2v_model.corpus_count,\n",
    "                epochs=d2v_model.iter)\n",
    "    d2v_model.delete_temporary_training_data(keep_doctags_vectors=True, \n",
    "                                         keep_inference=True)\n",
    "    \n",
    "    d2v_model.save(d2v_model_filepath)\n",
    "d2v_model = Doc2Vec.load(d2v_model_filepath)"
   ]
  },
  {
   "cell_type": "code",
   "execution_count": null,
   "metadata": {
    "collapsed": true
   },
   "outputs": [],
   "source": []
  },
  {
   "cell_type": "code",
   "execution_count": 16,
   "metadata": {
    "collapsed": false
   },
   "outputs": [
    {
     "data": {
      "text/plain": [
       "array([-0.01371083,  0.0815686 , -0.00669613,  0.06935754,  0.02689045,\n",
       "        0.01038031,  0.09509218, -0.06919938,  0.00378611, -0.15023325,\n",
       "       -0.04189951,  0.00334954,  0.00913013, -0.01612096,  0.06676208,\n",
       "        0.08830053, -0.033154  , -0.08064721,  0.02085944, -0.05775398,\n",
       "       -0.06948826,  0.01935162,  0.08948092,  0.09486138,  0.14374265,\n",
       "       -0.10245666, -0.03061139, -0.09078959,  0.03065711,  0.01197174,\n",
       "        0.07491003, -0.04091381, -0.00477454,  0.05629453,  0.00903418,\n",
       "       -0.01593896,  0.00496962,  0.00081232,  0.15817685,  0.11314145,\n",
       "       -0.1094825 ,  0.08722913,  0.01877567, -0.03253043,  0.00555948,\n",
       "       -0.05672094, -0.03802206, -0.00212503, -0.03712022, -0.08539797,\n",
       "        0.0334861 ,  0.14122556,  0.01583459, -0.04578657, -0.00787946,\n",
       "       -0.09768046,  0.12736915, -0.0462162 , -0.02822202, -0.11292364,\n",
       "        0.07151398,  0.07855619,  0.05019869,  0.05998117, -0.2005084 ,\n",
       "        0.07129875, -0.11454561, -0.01220046, -0.08393203,  0.05089571,\n",
       "        0.09975912, -0.06971819,  0.06413945, -0.13240671, -0.01331306,\n",
       "        0.06520809,  0.01369447,  0.04371117, -0.02434076,  0.0317983 ,\n",
       "        0.00897298, -0.01293816,  0.0213604 ,  0.02670131,  0.01379366,\n",
       "        0.06151782, -0.03123671, -0.03367923,  0.00205236,  0.09246781,\n",
       "       -0.00550497,  0.05691537,  0.05897624,  0.05990222, -0.03388172,\n",
       "       -0.03022035, -0.01604242, -0.02769918,  0.01086313,  0.0593192 ,\n",
       "       -0.02030441, -0.02285317,  0.05302333, -0.03007003,  0.05586722,\n",
       "       -0.0519487 ,  0.0274345 ,  0.02833998,  0.01241436, -0.08789916,\n",
       "        0.04387307,  0.00839067, -0.09887252,  0.03426881,  0.11579861,\n",
       "       -0.08280762, -0.00702206,  0.01843957,  0.05521628,  0.004822  ,\n",
       "       -0.04561641,  0.03872219,  0.04454418,  0.02915752, -0.02375488,\n",
       "       -0.0261394 ,  0.08969983, -0.00052526,  0.05110205, -0.10644717,\n",
       "        0.01905748, -0.14733262,  0.11501028,  0.01150821, -0.10062424,\n",
       "       -0.06256285, -0.0678931 ,  0.04966243, -0.01223335, -0.06733208,\n",
       "       -0.00494479, -0.01511954, -0.06971036,  0.04211223,  0.01445991,\n",
       "       -0.04283223,  0.12939282, -0.00633018,  0.08752958, -0.00800277,\n",
       "        0.01731597,  0.00453936,  0.06462907, -0.0446321 ,  0.07412256,\n",
       "       -0.01058843, -0.06130513,  0.03231133, -0.00453221, -0.10167549,\n",
       "       -0.06441244, -0.0718888 ,  0.15617636, -0.03137913,  0.0609915 ,\n",
       "        0.00874247, -0.09411968, -0.00547497, -0.02310904,  0.07644219,\n",
       "        0.05602393, -0.21642078, -0.00264231,  0.10647671, -0.04566962,\n",
       "        0.06089257,  0.04575505,  0.02066793, -0.10461715,  0.10274099,\n",
       "       -0.00141315,  0.07296626, -0.0061727 , -0.05959012,  0.01748293,\n",
       "       -0.0101013 , -0.03716875,  0.01698552,  0.12427261,  0.11141371,\n",
       "        0.00792231, -0.06174849, -0.00990367, -0.06233845,  0.0587666 ,\n",
       "        0.02952469, -0.06907576,  0.12989646, -0.01363986, -0.16828445,\n",
       "        0.0585653 ,  0.05359166,  0.04539154,  0.02667429,  0.02200424,\n",
       "       -0.0442795 ,  0.03254329,  0.01957532, -0.05881893,  0.02842774,\n",
       "       -0.0300151 , -0.05123287,  0.01945151,  0.03775451,  0.03969124,\n",
       "        0.03671502,  0.0353366 , -0.01456279,  0.05648652, -0.12740846,\n",
       "        0.07866911, -0.05548233, -0.02785823, -0.04055206,  0.05194347,\n",
       "       -0.03931944,  0.04438764,  0.10859291, -0.02303011, -0.03549904,\n",
       "       -0.11504958,  0.0387057 ,  0.02193343, -0.02420677,  0.04883194,\n",
       "        0.06008558, -0.02614584, -0.09420144,  0.08885315, -0.01052574,\n",
       "        0.0655292 ,  0.05695669,  0.00652616,  0.01453935, -0.02986387,\n",
       "        0.01639314,  0.00657638,  0.04929785,  0.04792388,  0.08476451,\n",
       "        0.02735952, -0.06889346, -0.00433702,  0.06716583,  0.10262968,\n",
       "       -0.01291349, -0.00299393,  0.00053914,  0.02518648, -0.03058514,\n",
       "        0.01357266, -0.02210928, -0.11846593,  0.04788281, -0.00280759,\n",
       "       -0.00875827, -0.04833046,  0.03390562,  0.02651825, -0.04897416,\n",
       "        0.12293882,  0.09924532, -0.11356787,  0.00169652, -0.10239307,\n",
       "        0.1359283 ,  0.02773458, -0.04447265, -0.02908095,  0.00652955,\n",
       "       -0.02116924, -0.00201431, -0.02197422,  0.02899323, -0.08119451,\n",
       "        0.03558935, -0.00779755,  0.02505786,  0.00056788,  0.07566386,\n",
       "       -0.11061042,  0.00660816, -0.07614572,  0.11985872, -0.03348628,\n",
       "        0.02609053, -0.01668374,  0.1122025 ,  0.05515436, -0.01175795,\n",
       "        0.17367183, -0.02906552,  0.06314607,  0.10055657,  0.0350823 ,\n",
       "        0.04010978,  0.06571157, -0.03958174,  0.1120459 , -0.05452457,\n",
       "        0.13253669, -0.01423449,  0.01080546, -0.04624017,  0.05140612,\n",
       "        0.05111527,  0.0255749 , -0.04980197, -0.03231981, -0.02319127,\n",
       "        0.00760498,  0.07037753, -0.11149962,  0.05796066,  0.03172733,\n",
       "       -0.02572309, -0.10298102,  0.01019617,  0.07362759, -0.04759845,\n",
       "        0.04552038,  0.04406394, -0.02781411,  0.00623498, -0.05895847,\n",
       "       -0.0020026 , -0.02075735,  0.03939718,  0.04854141,  0.05759341,\n",
       "        0.0186148 ,  0.06743551,  0.0072347 , -0.01665038, -0.02827351,\n",
       "        0.04673816, -0.07825496,  0.04009835, -0.06851524,  0.01654523,\n",
       "       -0.03495891, -0.09066018, -0.00907946, -0.00867087,  0.04132653,\n",
       "       -0.06096482, -0.05871342, -0.10230381,  0.04810324, -0.0125214 ,\n",
       "        0.06234557,  0.02227002, -0.02109789,  0.0091436 ,  0.08504145,\n",
       "        0.08499833,  0.03363321,  0.13731952,  0.02815217,  0.10863612,\n",
       "       -0.16135857, -0.02410252,  0.0585492 , -0.04984885, -0.01653964,\n",
       "        0.0110912 , -0.02782319, -0.00686075, -0.0083041 ,  0.00109321,\n",
       "        0.02660854,  0.05014464, -0.03287278, -0.00064531, -0.03989706,\n",
       "        0.00879382, -0.02888936, -0.0342861 ,  0.06276256,  0.06658471,\n",
       "        0.03406043, -0.03079279, -0.00440154, -0.05505455,  0.00877379,\n",
       "        0.12641899, -0.02347925, -0.06443682, -0.11178228,  0.044018  ], dtype=float32)"
      ]
     },
     "execution_count": 16,
     "metadata": {},
     "output_type": "execute_result"
    }
   ],
   "source": [
    "d2v_model.docvecs[1]"
   ]
  },
  {
   "cell_type": "code",
   "execution_count": 17,
   "metadata": {
    "collapsed": false
   },
   "outputs": [
    {
     "data": {
      "text/plain": [
       "array([ -6.65408606e-03,  -9.60618854e-02,   7.97688030e-03,\n",
       "        -1.53772235e-02,  -1.76954642e-02,   5.93585297e-02,\n",
       "         1.46005884e-01,   3.73828113e-02,   5.65308556e-02,\n",
       "        -1.01225451e-01,   6.07891753e-02,   2.34075617e-02,\n",
       "         6.09449036e-02,   5.53612970e-02,   6.95149302e-02,\n",
       "        -9.28981695e-03,   1.85712837e-02,  -1.83616206e-02,\n",
       "         1.34607106e-01,   1.94285549e-02,   1.64235104e-03,\n",
       "        -1.68926641e-02,  -4.40987647e-02,   2.70444155e-02,\n",
       "        -1.12404160e-01,  -3.14898156e-02,  -1.62254453e-01,\n",
       "        -9.99798924e-02,  -3.70075069e-02,  -6.36721626e-02,\n",
       "         4.35521603e-02,  -8.92822668e-02,   1.64991599e-02,\n",
       "         1.54697508e-01,   5.89581113e-03,   1.08473659e-01,\n",
       "         9.87637639e-02,   9.60847661e-02,  -2.76527181e-02,\n",
       "         2.78442185e-02,   3.22641581e-02,   1.17527142e-01,\n",
       "         2.13687401e-02,  -8.85216072e-02,   1.36065736e-01,\n",
       "        -5.36627732e-02,  -4.46409099e-02,  -1.17049465e-04,\n",
       "        -3.06018293e-02,  -2.36710906e-02,  -1.74825639e-02,\n",
       "         7.90498033e-02,   2.21522432e-02,  -9.64869559e-02,\n",
       "        -3.39712612e-02,   1.86384004e-02,   1.00364655e-01,\n",
       "         1.18302852e-01,   1.86743997e-02,  -2.39626914e-02,\n",
       "         7.34865740e-02,  -7.52467103e-03,  -5.25102094e-02,\n",
       "         1.08473316e-01,  -2.20771983e-01,  -1.30936578e-01,\n",
       "        -1.21995829e-01,  -2.53636129e-02,  -1.17096707e-01,\n",
       "        -6.43304363e-02,  -8.46583676e-03,   2.79380823e-04,\n",
       "         3.08768880e-02,   2.31049303e-03,  -1.19521553e-02,\n",
       "         9.05937329e-02,  -4.94130775e-02,   1.41624823e-01,\n",
       "        -1.20963104e-01,  -2.02776827e-02,   1.11040873e-02,\n",
       "        -2.33638193e-02,  -8.65709186e-02,   9.06382725e-02,\n",
       "        -5.48282973e-02,   1.09374542e-02,   1.02389194e-01,\n",
       "        -2.12034229e-02,   5.60071245e-02,   5.18212318e-02,\n",
       "         1.27727717e-01,  -1.64724402e-02,   2.19447780e-02,\n",
       "         8.67299736e-02,  -6.44851625e-02,   6.01987764e-02,\n",
       "        -4.12400030e-02,  -1.76338851e-02,  -3.59637737e-02,\n",
       "         3.24432328e-02,  -4.42639478e-02,  -8.92038047e-02,\n",
       "         1.19849317e-01,   1.02439802e-02,  -4.10960130e-02,\n",
       "        -5.73092923e-02,   1.02516105e-02,  -9.43232104e-02,\n",
       "         4.10856046e-02,  -7.38420039e-02,  -6.71074465e-02,\n",
       "         7.81466290e-02,  -1.91917587e-02,   1.84000805e-02,\n",
       "         1.83618307e-01,  -3.45674343e-02,  -9.91693363e-02,\n",
       "         5.57301976e-02,   1.59023225e-01,  -4.55498882e-02,\n",
       "         3.83200962e-03,  -6.18985742e-02,  -2.83588562e-02,\n",
       "        -9.35115442e-02,   4.72434722e-02,  -8.98661390e-02,\n",
       "         1.15270868e-01,   5.28189614e-02,  -1.99788529e-03,\n",
       "        -2.87591685e-02,  -2.14333255e-02,  -1.98355868e-01,\n",
       "         8.78993496e-02,   1.49509944e-02,   6.05401881e-02,\n",
       "         4.77825142e-02,   9.28883161e-03,  -1.98966879e-02,\n",
       "         3.51970792e-02,  -6.73789009e-02,   8.17609802e-02,\n",
       "         2.97697857e-02,   4.65313643e-02,  -1.59670729e-02,\n",
       "         3.24695691e-04,  -6.35648966e-02,   8.34588408e-02,\n",
       "        -1.26134261e-01,  -7.16530085e-02,   9.66510475e-02,\n",
       "         4.24776636e-02,  -6.04557581e-02,  -3.60871218e-02,\n",
       "        -1.90715808e-02,   8.25167075e-02,   1.32404407e-02,\n",
       "        -1.01123668e-01,   1.07875369e-01,  -4.74302955e-02,\n",
       "        -7.93940946e-02,   4.29008156e-02,  -1.23382524e-01,\n",
       "         3.51520926e-02,  -9.17921588e-02,  -4.82486449e-02,\n",
       "        -4.78594825e-02,  -8.47788081e-02,  -1.23662734e-02,\n",
       "        -4.89794165e-02,   4.44268249e-02,   4.68363874e-02,\n",
       "        -1.19791612e-01,  -5.68242818e-02,   3.13366428e-02,\n",
       "         1.66013926e-01,   5.68354316e-02,  -6.61002705e-03,\n",
       "         1.19896948e-01,  -1.26176238e-01,   7.48931244e-02,\n",
       "         5.49292332e-03,   8.63294452e-02,  -1.33100431e-03,\n",
       "         6.02179533e-03,  -3.61740366e-02,  -9.05270725e-02,\n",
       "         4.23219055e-02,   4.57554162e-02,   2.82976478e-02,\n",
       "         4.55274433e-02,  -1.72541086e-02,   2.58668582e-03,\n",
       "         3.64071243e-02,   1.34638041e-01,   3.68273817e-02,\n",
       "        -1.92436669e-02,   4.60620858e-02,  -3.81630398e-02,\n",
       "        -3.26797254e-02,  -6.06261864e-02,   1.25549451e-01,\n",
       "        -7.45715871e-02,   4.32577878e-02,   5.74074313e-02,\n",
       "        -1.31805107e-01,  -4.84002791e-02,  -4.85180654e-02,\n",
       "        -1.60163566e-01,   4.07212675e-02,   7.01975822e-02,\n",
       "        -6.83902875e-02,   3.25652175e-02,   1.36188343e-01,\n",
       "         8.08372051e-02,   6.77709132e-02,  -1.26538798e-02,\n",
       "         9.44769979e-02,  -1.22542769e-01,   4.24199328e-02,\n",
       "        -1.29633337e-01,   5.25807263e-03,  -5.00540659e-02,\n",
       "        -3.51944454e-02,  -1.45609863e-02,  -9.63668281e-04,\n",
       "        -7.63875395e-02,   2.64560394e-02,  -7.97855493e-04,\n",
       "         7.37941563e-02,  -1.15975039e-02,   2.33292598e-02,\n",
       "         8.18787143e-02,   7.65455607e-03,  -1.63741130e-02,\n",
       "         5.93471574e-04,   5.26350848e-02,   2.58979499e-02,\n",
       "        -1.29080251e-01,   6.16236776e-02,   8.43869671e-02,\n",
       "         8.20401013e-02,   7.99491704e-02,   6.90230653e-02,\n",
       "         1.47964522e-01,   1.62310898e-02,  -4.47383150e-02,\n",
       "        -1.19617470e-02,   7.46922791e-02,   9.46587622e-02,\n",
       "        -3.24823894e-02,  -4.70693186e-02,  -7.68437833e-02,\n",
       "         6.90371469e-02,  -4.89514433e-02,   9.51454695e-03,\n",
       "         1.43358603e-01,   3.42948698e-02,  -1.02054685e-01,\n",
       "         3.26628871e-02,   4.00001043e-03,   7.00280368e-02,\n",
       "         7.13549405e-02,  -7.72651806e-02,   4.51263338e-02,\n",
       "        -6.22082464e-02,  -4.47979160e-02,   7.59271381e-04,\n",
       "         2.89218072e-02,   5.39119467e-02,  -6.76990449e-02,\n",
       "         8.06035548e-02,   1.48133665e-01,   2.33823489e-02,\n",
       "        -5.67824543e-02,  -7.19304904e-02,   1.15765922e-01,\n",
       "        -1.47085525e-02,   9.10232142e-02,   4.72655660e-03,\n",
       "        -2.48184558e-02,   8.15825537e-02,   1.30667137e-02,\n",
       "        -7.15748742e-02,  -9.77886617e-02,  -7.56038502e-02,\n",
       "         6.86913431e-02,   5.29902093e-02,   7.77051821e-02,\n",
       "        -1.25655401e-02,   3.61784212e-02,  -6.33054078e-02,\n",
       "        -3.99534069e-02,   3.66637744e-02,   6.62628487e-02,\n",
       "        -4.02312120e-03,   7.26792915e-03,   4.88647185e-02,\n",
       "         7.49556571e-02,   8.24578106e-03,   6.46305382e-02,\n",
       "         4.55673002e-02,   6.94667250e-02,  -2.50220913e-02,\n",
       "        -2.41229646e-02,   5.17386347e-02,  -1.83180650e-03,\n",
       "        -8.53827670e-02,  -7.87955709e-03,   1.80229947e-01,\n",
       "        -1.02042556e-02,   9.60984379e-02,   1.30278431e-02,\n",
       "         6.37496188e-02,   6.62936494e-02,   9.47865099e-03,\n",
       "        -1.55091081e-02,   1.02815077e-01,  -9.07742381e-02,\n",
       "         2.63275430e-02,   1.32984470e-03,  -1.02833174e-01,\n",
       "         3.18827294e-02,  -7.84470234e-03,  -5.64036481e-02,\n",
       "         5.93566783e-02,   3.13497484e-02,  -7.71313384e-02,\n",
       "        -7.30927587e-02,   8.38464573e-02,  -3.58317830e-02,\n",
       "         2.95235310e-02,  -4.03276552e-03,   7.13577792e-02,\n",
       "         1.17403734e-02,  -3.21442708e-02,   2.82712113e-02,\n",
       "         1.55995358e-02,  -6.54513948e-03,   9.53077301e-02,\n",
       "         3.32990661e-02,  -1.31128863e-01,   1.62501354e-02,\n",
       "         3.92316319e-02,   6.95798770e-02,   8.29015076e-02,\n",
       "         7.79911429e-02,   5.01088507e-04,  -7.54928291e-02,\n",
       "        -6.98845312e-02,   2.28928179e-02,  -1.16999839e-02,\n",
       "         7.04381941e-03,  -3.21492516e-02,  -7.87458867e-02,\n",
       "         1.50592942e-02,  -6.52872324e-02,  -4.85239811e-02,\n",
       "        -1.57722816e-01,   6.58560693e-02,   8.69795233e-02,\n",
       "        -1.18537657e-02,   6.61441535e-02,  -7.88307115e-02,\n",
       "         2.33826060e-02,   2.91828699e-02,  -5.86381592e-02,\n",
       "         2.75203213e-02,   3.79508990e-03,   9.65382345e-03,\n",
       "         4.33350494e-03,  -7.04586133e-02,   5.58447978e-03,\n",
       "         3.68440114e-02,  -9.49390382e-02,  -2.54782438e-02,\n",
       "        -5.39094880e-02,   1.00793473e-01,   3.41638178e-02,\n",
       "        -4.92345169e-02,  -6.65625632e-02,   6.83401674e-02,\n",
       "        -8.26154202e-02,  -8.04414786e-03,  -1.97079536e-02,\n",
       "         6.16246872e-02,  -4.73300815e-02,  -2.27269642e-02,\n",
       "        -2.71063037e-02,   1.91456024e-02,   1.28015578e-02,\n",
       "         1.06266648e-01,   1.63777284e-02,  -1.25830434e-02,\n",
       "        -9.73173678e-02,  -6.65635541e-02,   5.92255443e-02,\n",
       "        -6.66968897e-02,  -1.91395089e-01,  -7.55714029e-02,\n",
       "         4.58803065e-02], dtype=float32)"
      ]
     },
     "execution_count": 17,
     "metadata": {},
     "output_type": "execute_result"
    }
   ],
   "source": [
    "d2v_model.docvecs[808579]"
   ]
  },
  {
   "cell_type": "code",
   "execution_count": 18,
   "metadata": {
    "collapsed": false
   },
   "outputs": [
    {
     "data": {
      "text/plain": [
       "400"
      ]
     },
     "execution_count": 18,
     "metadata": {},
     "output_type": "execute_result"
    }
   ],
   "source": [
    "len(d2v_model.docvecs[1])"
   ]
  },
  {
   "cell_type": "code",
   "execution_count": 19,
   "metadata": {
    "collapsed": false
   },
   "outputs": [
    {
     "data": {
      "text/plain": [
       "808580"
      ]
     },
     "execution_count": 19,
     "metadata": {},
     "output_type": "execute_result"
    }
   ],
   "source": [
    "len(d2v_model.docvecs)"
   ]
  },
  {
   "cell_type": "code",
   "execution_count": 20,
   "metadata": {
    "collapsed": false
   },
   "outputs": [
    {
     "data": {
      "text/plain": [
       "404290"
      ]
     },
     "execution_count": 20,
     "metadata": {},
     "output_type": "execute_result"
    }
   ],
   "source": [
    "d2v_model.corpus_count/2"
   ]
  },
  {
   "cell_type": "code",
   "execution_count": 21,
   "metadata": {
    "collapsed": false
   },
   "outputs": [
    {
     "data": {
      "text/plain": [
       "[(u'h1b_visa', 0.6537595391273499),\n",
       " (u'green_card', 0.561050534248352),\n",
       " (u'visa', 0.5449970960617065),\n",
       " (u'i-140', 0.5432738065719604),\n",
       " (u'f1_visa', 0.5358686447143555),\n",
       " (u'ead', 0.5208008289337158),\n",
       " (u'uscis', 0.49259644746780396),\n",
       " (u'h1-b_visa', 0.4820735454559326),\n",
       " (u'h1-b', 0.46594786643981934),\n",
       " (u'h-1b_visa', 0.45902955532073975)]"
      ]
     },
     "execution_count": 21,
     "metadata": {},
     "output_type": "execute_result"
    }
   ],
   "source": [
    "d2v_model.most_similar('h1b')"
   ]
  },
  {
   "cell_type": "code",
   "execution_count": 22,
   "metadata": {
    "collapsed": true
   },
   "outputs": [],
   "source": [
    "def save_vectors_broad (filename, offset, num_rec):\n",
    "    \"\"\"\n",
    "    saves the sentence vectors of all question pairs \n",
    "    in a csv file        \n",
    "    \"\"\"\n",
    "    with open(filename, 'w') as fout:\n",
    "        for i in tqdm(xrange(num_rec)):\n",
    "            for word in d2v_model.docvecs[i]:\n",
    "                fout.write(str(word)+',')\n",
    "            for word in d2v_model.docvecs[i+offset]:\n",
    "                fout.write(str(word)+',')\n",
    "            fout.write('\\n')"
   ]
  },
  {
   "cell_type": "code",
   "execution_count": 23,
   "metadata": {
    "collapsed": true
   },
   "outputs": [],
   "source": [
    "d2v_data400_filepath = r'd2v_data400_all.csv'"
   ]
  },
  {
   "cell_type": "code",
   "execution_count": 24,
   "metadata": {
    "collapsed": false
   },
   "outputs": [
    {
     "name": "stdout",
     "output_type": "stream",
     "text": [
      "404290 404290\n"
     ]
    }
   ],
   "source": [
    "offset = d2v_model.corpus_count/2\n",
    "nrec = d2v_model.corpus_count/2\n",
    "print offset, nrec"
   ]
  },
  {
   "cell_type": "code",
   "execution_count": 25,
   "metadata": {
    "collapsed": false
   },
   "outputs": [
    {
     "name": "stdout",
     "output_type": "stream",
     "text": [
      "\n"
     ]
    }
   ],
   "source": [
    "if 1==1:\n",
    "    save_vectors_broad(d2v_data400_filepath, offset, nrec)"
   ]
  },
  {
   "cell_type": "code",
   "execution_count": null,
   "metadata": {
    "collapsed": true
   },
   "outputs": [],
   "source": []
  }
 ],
 "metadata": {
  "anaconda-cloud": {},
  "kernelspec": {
   "display_name": "Python 2",
   "language": "python",
   "name": "python2"
  },
  "language_info": {
   "codemirror_mode": {
    "name": "ipython",
    "version": 2
   },
   "file_extension": ".py",
   "mimetype": "text/x-python",
   "name": "python",
   "nbconvert_exporter": "python",
   "pygments_lexer": "ipython2",
   "version": "2.7.13"
  },
  "widgets": {
   "state": {
    "9b91b241c87e4b67a3ffc9da868d0818": {
     "views": [
      {
       "cell_index": 120
      }
     ]
    }
   },
   "version": "1.2.0"
  }
 },
 "nbformat": 4,
 "nbformat_minor": 1
}
