{
 "cells": [
  {
   "cell_type": "markdown",
   "metadata": {},
   "source": [
    "## SGD Hyperparameter Tuning\n",
    "In this notebook, we build an SGD classifier model over the 50-topic LDA features and tune the hyperparameters of this classifier."
   ]
  },
  {
   "cell_type": "code",
   "execution_count": 2,
   "metadata": {
    "collapsed": false
   },
   "outputs": [],
   "source": [
    "# import needed modules\n",
    "import numpy as np\n",
    "import pandas as pd\n",
    "import seaborn as sns\n",
    "import matplotlib.pyplot as plt\n",
    "import time\n",
    "\n",
    "from sklearn.linear_model import SGDClassifier\n",
    "from sklearn.model_selection import train_test_split, GridSearchCV\n",
    "from sklearn.metrics import confusion_matrix\n",
    "from sklearn.metrics import precision_recall_curve\n",
    "from sklearn.metrics import average_precision_score\n",
    "from sklearn.metrics import fbeta_score, make_scorer, recall_score\n",
    "from sklearn.metrics import classification_report\n",
    "from sklearn.preprocessing import normalize\n",
    "from sklearn.metrics import accuracy_score"
   ]
  },
  {
   "cell_type": "code",
   "execution_count": 3,
   "metadata": {
    "collapsed": true
   },
   "outputs": [],
   "source": [
    "# define filenames and related dimensions\n",
    "topics_filename = 'lda_data50b_all.csv'\n",
    "train_filename = 'train.csv'\n",
    "data_ncol = 100"
   ]
  },
  {
   "cell_type": "code",
   "execution_count": 4,
   "metadata": {
    "collapsed": false,
    "scrolled": true
   },
   "outputs": [
    {
     "data": {
      "text/html": [
       "<div>\n",
       "<style>\n",
       "    .dataframe thead tr:only-child th {\n",
       "        text-align: right;\n",
       "    }\n",
       "\n",
       "    .dataframe thead th {\n",
       "        text-align: left;\n",
       "    }\n",
       "\n",
       "    .dataframe tbody tr th {\n",
       "        vertical-align: top;\n",
       "    }\n",
       "</style>\n",
       "<table border=\"1\" class=\"dataframe\">\n",
       "  <thead>\n",
       "    <tr style=\"text-align: right;\">\n",
       "      <th></th>\n",
       "      <th>0</th>\n",
       "      <th>1</th>\n",
       "      <th>2</th>\n",
       "      <th>3</th>\n",
       "      <th>4</th>\n",
       "      <th>5</th>\n",
       "      <th>6</th>\n",
       "      <th>7</th>\n",
       "      <th>8</th>\n",
       "      <th>9</th>\n",
       "      <th>...</th>\n",
       "      <th>90</th>\n",
       "      <th>91</th>\n",
       "      <th>92</th>\n",
       "      <th>93</th>\n",
       "      <th>94</th>\n",
       "      <th>95</th>\n",
       "      <th>96</th>\n",
       "      <th>97</th>\n",
       "      <th>98</th>\n",
       "      <th>99</th>\n",
       "    </tr>\n",
       "  </thead>\n",
       "  <tbody>\n",
       "    <tr>\n",
       "      <th>0</th>\n",
       "      <td>0.0</td>\n",
       "      <td>0.0</td>\n",
       "      <td>0.0</td>\n",
       "      <td>0.0</td>\n",
       "      <td>0.0</td>\n",
       "      <td>0.0</td>\n",
       "      <td>0.0</td>\n",
       "      <td>0.0</td>\n",
       "      <td>0.172101</td>\n",
       "      <td>0.000000</td>\n",
       "      <td>...</td>\n",
       "      <td>0.0</td>\n",
       "      <td>0.0</td>\n",
       "      <td>0.000000</td>\n",
       "      <td>0.0</td>\n",
       "      <td>0.0</td>\n",
       "      <td>0.0</td>\n",
       "      <td>0.0</td>\n",
       "      <td>0.0</td>\n",
       "      <td>0.0</td>\n",
       "      <td>0.0</td>\n",
       "    </tr>\n",
       "    <tr>\n",
       "      <th>1</th>\n",
       "      <td>0.0</td>\n",
       "      <td>0.0</td>\n",
       "      <td>0.0</td>\n",
       "      <td>0.0</td>\n",
       "      <td>0.0</td>\n",
       "      <td>0.0</td>\n",
       "      <td>0.0</td>\n",
       "      <td>0.0</td>\n",
       "      <td>0.000000</td>\n",
       "      <td>0.000000</td>\n",
       "      <td>...</td>\n",
       "      <td>0.0</td>\n",
       "      <td>0.0</td>\n",
       "      <td>0.000000</td>\n",
       "      <td>0.0</td>\n",
       "      <td>0.0</td>\n",
       "      <td>0.0</td>\n",
       "      <td>0.0</td>\n",
       "      <td>0.0</td>\n",
       "      <td>0.0</td>\n",
       "      <td>0.0</td>\n",
       "    </tr>\n",
       "    <tr>\n",
       "      <th>2</th>\n",
       "      <td>0.0</td>\n",
       "      <td>0.0</td>\n",
       "      <td>0.0</td>\n",
       "      <td>0.0</td>\n",
       "      <td>0.0</td>\n",
       "      <td>0.0</td>\n",
       "      <td>0.0</td>\n",
       "      <td>0.0</td>\n",
       "      <td>0.000000</td>\n",
       "      <td>0.141376</td>\n",
       "      <td>...</td>\n",
       "      <td>0.0</td>\n",
       "      <td>0.0</td>\n",
       "      <td>0.202688</td>\n",
       "      <td>0.0</td>\n",
       "      <td>0.0</td>\n",
       "      <td>0.0</td>\n",
       "      <td>0.0</td>\n",
       "      <td>0.0</td>\n",
       "      <td>0.0</td>\n",
       "      <td>0.0</td>\n",
       "    </tr>\n",
       "    <tr>\n",
       "      <th>3</th>\n",
       "      <td>0.0</td>\n",
       "      <td>0.0</td>\n",
       "      <td>0.0</td>\n",
       "      <td>0.0</td>\n",
       "      <td>0.0</td>\n",
       "      <td>0.0</td>\n",
       "      <td>0.0</td>\n",
       "      <td>0.0</td>\n",
       "      <td>0.000000</td>\n",
       "      <td>0.000000</td>\n",
       "      <td>...</td>\n",
       "      <td>0.0</td>\n",
       "      <td>0.0</td>\n",
       "      <td>0.000000</td>\n",
       "      <td>0.0</td>\n",
       "      <td>0.0</td>\n",
       "      <td>0.0</td>\n",
       "      <td>0.0</td>\n",
       "      <td>0.0</td>\n",
       "      <td>0.0</td>\n",
       "      <td>0.0</td>\n",
       "    </tr>\n",
       "    <tr>\n",
       "      <th>4</th>\n",
       "      <td>0.0</td>\n",
       "      <td>0.0</td>\n",
       "      <td>0.0</td>\n",
       "      <td>0.0</td>\n",
       "      <td>0.0</td>\n",
       "      <td>0.0</td>\n",
       "      <td>0.0</td>\n",
       "      <td>0.0</td>\n",
       "      <td>0.000000</td>\n",
       "      <td>0.000000</td>\n",
       "      <td>...</td>\n",
       "      <td>0.0</td>\n",
       "      <td>0.0</td>\n",
       "      <td>0.000000</td>\n",
       "      <td>0.0</td>\n",
       "      <td>0.0</td>\n",
       "      <td>0.0</td>\n",
       "      <td>0.0</td>\n",
       "      <td>0.0</td>\n",
       "      <td>0.0</td>\n",
       "      <td>0.0</td>\n",
       "    </tr>\n",
       "  </tbody>\n",
       "</table>\n",
       "<p>5 rows × 100 columns</p>\n",
       "</div>"
      ],
      "text/plain": [
       "    0    1    2    3    4    5    6    7         8         9  ...    90   91  \\\n",
       "0  0.0  0.0  0.0  0.0  0.0  0.0  0.0  0.0  0.172101  0.000000 ...   0.0  0.0   \n",
       "1  0.0  0.0  0.0  0.0  0.0  0.0  0.0  0.0  0.000000  0.000000 ...   0.0  0.0   \n",
       "2  0.0  0.0  0.0  0.0  0.0  0.0  0.0  0.0  0.000000  0.141376 ...   0.0  0.0   \n",
       "3  0.0  0.0  0.0  0.0  0.0  0.0  0.0  0.0  0.000000  0.000000 ...   0.0  0.0   \n",
       "4  0.0  0.0  0.0  0.0  0.0  0.0  0.0  0.0  0.000000  0.000000 ...   0.0  0.0   \n",
       "\n",
       "         92   93   94   95   96   97   98   99  \n",
       "0  0.000000  0.0  0.0  0.0  0.0  0.0  0.0  0.0  \n",
       "1  0.000000  0.0  0.0  0.0  0.0  0.0  0.0  0.0  \n",
       "2  0.202688  0.0  0.0  0.0  0.0  0.0  0.0  0.0  \n",
       "3  0.000000  0.0  0.0  0.0  0.0  0.0  0.0  0.0  \n",
       "4  0.000000  0.0  0.0  0.0  0.0  0.0  0.0  0.0  \n",
       "\n",
       "[5 rows x 100 columns]"
      ]
     },
     "execution_count": 4,
     "metadata": {},
     "output_type": "execute_result"
    }
   ],
   "source": [
    "# load the dataset into memory\n",
    "df = pd.read_csv(topics_filename, header=None)\n",
    "df = df.drop(data_ncol,1)\n",
    "df.head()"
   ]
  },
  {
   "cell_type": "code",
   "execution_count": 5,
   "metadata": {
    "collapsed": false
   },
   "outputs": [
    {
     "data": {
      "text/html": [
       "<div>\n",
       "<style>\n",
       "    .dataframe thead tr:only-child th {\n",
       "        text-align: right;\n",
       "    }\n",
       "\n",
       "    .dataframe thead th {\n",
       "        text-align: left;\n",
       "    }\n",
       "\n",
       "    .dataframe tbody tr th {\n",
       "        vertical-align: top;\n",
       "    }\n",
       "</style>\n",
       "<table border=\"1\" class=\"dataframe\">\n",
       "  <thead>\n",
       "    <tr style=\"text-align: right;\">\n",
       "      <th></th>\n",
       "      <th>id</th>\n",
       "      <th>qid1</th>\n",
       "      <th>qid2</th>\n",
       "      <th>question1</th>\n",
       "      <th>question2</th>\n",
       "      <th>is_duplicate</th>\n",
       "    </tr>\n",
       "  </thead>\n",
       "  <tbody>\n",
       "    <tr>\n",
       "      <th>0</th>\n",
       "      <td>0</td>\n",
       "      <td>1</td>\n",
       "      <td>2</td>\n",
       "      <td>What is the step by step guide to invest in sh...</td>\n",
       "      <td>What is the step by step guide to invest in sh...</td>\n",
       "      <td>0</td>\n",
       "    </tr>\n",
       "    <tr>\n",
       "      <th>1</th>\n",
       "      <td>1</td>\n",
       "      <td>3</td>\n",
       "      <td>4</td>\n",
       "      <td>What is the story of Kohinoor (Koh-i-Noor) Dia...</td>\n",
       "      <td>What would happen if the Indian government sto...</td>\n",
       "      <td>0</td>\n",
       "    </tr>\n",
       "    <tr>\n",
       "      <th>2</th>\n",
       "      <td>2</td>\n",
       "      <td>5</td>\n",
       "      <td>6</td>\n",
       "      <td>How can I increase the speed of my internet co...</td>\n",
       "      <td>How can Internet speed be increased by hacking...</td>\n",
       "      <td>0</td>\n",
       "    </tr>\n",
       "    <tr>\n",
       "      <th>3</th>\n",
       "      <td>3</td>\n",
       "      <td>7</td>\n",
       "      <td>8</td>\n",
       "      <td>Why am I mentally very lonely? How can I solve...</td>\n",
       "      <td>Find the remainder when [math]23^{24}[/math] i...</td>\n",
       "      <td>0</td>\n",
       "    </tr>\n",
       "    <tr>\n",
       "      <th>4</th>\n",
       "      <td>4</td>\n",
       "      <td>9</td>\n",
       "      <td>10</td>\n",
       "      <td>Which one dissolve in water quikly sugar, salt...</td>\n",
       "      <td>Which fish would survive in salt water?</td>\n",
       "      <td>0</td>\n",
       "    </tr>\n",
       "  </tbody>\n",
       "</table>\n",
       "</div>"
      ],
      "text/plain": [
       "   id  qid1  qid2                                          question1  \\\n",
       "0   0     1     2  What is the step by step guide to invest in sh...   \n",
       "1   1     3     4  What is the story of Kohinoor (Koh-i-Noor) Dia...   \n",
       "2   2     5     6  How can I increase the speed of my internet co...   \n",
       "3   3     7     8  Why am I mentally very lonely? How can I solve...   \n",
       "4   4     9    10  Which one dissolve in water quikly sugar, salt...   \n",
       "\n",
       "                                           question2  is_duplicate  \n",
       "0  What is the step by step guide to invest in sh...             0  \n",
       "1  What would happen if the Indian government sto...             0  \n",
       "2  How can Internet speed be increased by hacking...             0  \n",
       "3  Find the remainder when [math]23^{24}[/math] i...             0  \n",
       "4            Which fish would survive in salt water?             0  "
      ]
     },
     "execution_count": 5,
     "metadata": {},
     "output_type": "execute_result"
    }
   ],
   "source": [
    "df_text = pd.read_csv(\"train.csv\").fillna(\"\")\n",
    "df_text.head()"
   ]
  },
  {
   "cell_type": "code",
   "execution_count": 6,
   "metadata": {
    "collapsed": false
   },
   "outputs": [],
   "source": [
    "X = df.values\n",
    "y = df_text.iloc[:,-1:].values.ravel()\n",
    "del df_text"
   ]
  },
  {
   "cell_type": "code",
   "execution_count": 7,
   "metadata": {
    "collapsed": false
   },
   "outputs": [
    {
     "name": "stdout",
     "output_type": "stream",
     "text": [
      "100 404290\n"
     ]
    }
   ],
   "source": [
    "print len(X[0]), len(y)"
   ]
  },
  {
   "cell_type": "code",
   "execution_count": 8,
   "metadata": {
    "collapsed": false
   },
   "outputs": [],
   "source": [
    "# create test and train datasets from the original dataset\n",
    "X_train, X_test, y_train, y_test = \\\n",
    "        train_test_split(X, y, test_size=.33, random_state=42)\n",
    "X_train = normalize(X_train)\n",
    "X_test = normalize(X_test)"
   ]
  },
  {
   "cell_type": "markdown",
   "metadata": {},
   "source": [
    "### Hyperparameter Tuning"
   ]
  },
  {
   "cell_type": "code",
   "execution_count": 9,
   "metadata": {
    "collapsed": false,
    "scrolled": false
   },
   "outputs": [
    {
     "name": "stdout",
     "output_type": "stream",
     "text": [
      "# Tuning hyper-parameters for precision\n",
      "\n"
     ]
    },
    {
     "name": "stderr",
     "output_type": "stream",
     "text": [
      "C:\\Users\\sarma_tvxkwyx\\Anaconda2\\lib\\site-packages\\sklearn\\metrics\\classification.py:1113: UndefinedMetricWarning: Precision is ill-defined and being set to 0.0 due to no predicted samples.\n",
      "  'precision', 'predicted', average, warn_for)\n"
     ]
    },
    {
     "name": "stdout",
     "output_type": "stream",
     "text": [
      "Best parameters set found on development set:\n",
      "\n",
      "{'loss': 'hinge', 'n_jobs': -1, 'shuffle': False, 'class_weight': None}\n",
      "\n",
      "Grid scores on development set:\n",
      "\n",
      "0.626 (+/-0.190) for {'loss': 'hinge', 'n_jobs': -1, 'shuffle': False, 'class_weight': None}\n",
      "0.591 (+/-0.401) for {'loss': 'hinge', 'n_jobs': -1, 'shuffle': True, 'class_weight': None}\n",
      "0.576 (+/-0.101) for {'loss': 'log', 'n_jobs': -1, 'shuffle': False, 'class_weight': None}\n",
      "0.605 (+/-0.033) for {'loss': 'log', 'n_jobs': -1, 'shuffle': True, 'class_weight': None}\n",
      "0.528 (+/-0.107) for {'loss': 'modified_huber', 'n_jobs': -1, 'shuffle': False, 'class_weight': None}\n",
      "0.589 (+/-0.083) for {'loss': 'modified_huber', 'n_jobs': -1, 'shuffle': True, 'class_weight': None}\n",
      "0.374 (+/-0.017) for {'loss': 'squared_hinge', 'n_jobs': -1, 'shuffle': False, 'class_weight': None}\n",
      "0.369 (+/-0.024) for {'loss': 'squared_hinge', 'n_jobs': -1, 'shuffle': True, 'class_weight': None}\n",
      "0.466 (+/-0.054) for {'loss': 'hinge', 'n_jobs': -1, 'shuffle': False, 'class_weight': 'balanced'}\n",
      "0.490 (+/-0.028) for {'loss': 'hinge', 'n_jobs': -1, 'shuffle': True, 'class_weight': 'balanced'}\n",
      "0.467 (+/-0.059) for {'loss': 'log', 'n_jobs': -1, 'shuffle': False, 'class_weight': 'balanced'}\n",
      "0.496 (+/-0.028) for {'loss': 'log', 'n_jobs': -1, 'shuffle': True, 'class_weight': 'balanced'}\n",
      "0.443 (+/-0.050) for {'loss': 'modified_huber', 'n_jobs': -1, 'shuffle': False, 'class_weight': 'balanced'}\n",
      "0.505 (+/-0.041) for {'loss': 'modified_huber', 'n_jobs': -1, 'shuffle': True, 'class_weight': 'balanced'}\n",
      "0.391 (+/-0.010) for {'loss': 'squared_hinge', 'n_jobs': -1, 'shuffle': False, 'class_weight': 'balanced'}\n",
      "0.384 (+/-0.030) for {'loss': 'squared_hinge', 'n_jobs': -1, 'shuffle': True, 'class_weight': 'balanced'}\n",
      "\n",
      "Detailed classification report:\n",
      "\n",
      "The model is trained on the full development set.\n",
      "The scores are computed on the full evaluation set.\n",
      "\n",
      "             precision    recall  f1-score   support\n",
      "\n",
      "          0       0.63      1.00      0.77     83975\n",
      "          1       0.64      0.01      0.02     49441\n",
      "\n",
      "avg / total       0.63      0.63      0.49    133416\n",
      "\n",
      "\n",
      "# Tuning hyper-parameters for recall\n",
      "\n",
      "Best parameters set found on development set:\n",
      "\n",
      "{'loss': 'modified_huber', 'n_jobs': -1, 'shuffle': False, 'class_weight': 'balanced'}\n",
      "\n",
      "Grid scores on development set:\n",
      "\n",
      "0.114 (+/-0.589) for {'loss': 'hinge', 'n_jobs': -1, 'shuffle': False, 'class_weight': None}\n",
      "0.008 (+/-0.013) for {'loss': 'hinge', 'n_jobs': -1, 'shuffle': True, 'class_weight': None}\n",
      "0.338 (+/-0.363) for {'loss': 'log', 'n_jobs': -1, 'shuffle': False, 'class_weight': None}\n",
      "0.227 (+/-0.086) for {'loss': 'log', 'n_jobs': -1, 'shuffle': True, 'class_weight': None}\n",
      "0.472 (+/-0.350) for {'loss': 'modified_huber', 'n_jobs': -1, 'shuffle': False, 'class_weight': None}\n",
      "0.297 (+/-0.211) for {'loss': 'modified_huber', 'n_jobs': -1, 'shuffle': True, 'class_weight': None}\n",
      "0.375 (+/-0.298) for {'loss': 'squared_hinge', 'n_jobs': -1, 'shuffle': False, 'class_weight': None}\n",
      "0.311 (+/-0.076) for {'loss': 'squared_hinge', 'n_jobs': -1, 'shuffle': True, 'class_weight': None}\n",
      "0.740 (+/-0.154) for {'loss': 'hinge', 'n_jobs': -1, 'shuffle': False, 'class_weight': 'balanced'}\n",
      "0.666 (+/-0.077) for {'loss': 'hinge', 'n_jobs': -1, 'shuffle': True, 'class_weight': 'balanced'}\n",
      "0.728 (+/-0.167) for {'loss': 'log', 'n_jobs': -1, 'shuffle': False, 'class_weight': 'balanced'}\n",
      "0.662 (+/-0.116) for {'loss': 'log', 'n_jobs': -1, 'shuffle': True, 'class_weight': 'balanced'}\n",
      "0.800 (+/-0.132) for {'loss': 'modified_huber', 'n_jobs': -1, 'shuffle': False, 'class_weight': 'balanced'}\n",
      "0.668 (+/-0.264) for {'loss': 'modified_huber', 'n_jobs': -1, 'shuffle': True, 'class_weight': 'balanced'}\n",
      "0.506 (+/-0.243) for {'loss': 'squared_hinge', 'n_jobs': -1, 'shuffle': False, 'class_weight': 'balanced'}\n",
      "0.487 (+/-0.145) for {'loss': 'squared_hinge', 'n_jobs': -1, 'shuffle': True, 'class_weight': 'balanced'}\n",
      "\n",
      "Detailed classification report:\n",
      "\n",
      "The model is trained on the full development set.\n",
      "The scores are computed on the full evaluation set.\n",
      "\n",
      "             precision    recall  f1-score   support\n",
      "\n",
      "          0       0.78      0.46      0.58     83975\n",
      "          1       0.46      0.77      0.57     49441\n",
      "\n",
      "avg / total       0.66      0.58      0.58    133416\n",
      "\n",
      "\n",
      "# Tuning hyper-parameters for f1\n",
      "\n",
      "Best parameters set found on development set:\n",
      "\n",
      "{'loss': 'hinge', 'n_jobs': -1, 'shuffle': False, 'class_weight': 'balanced'}\n",
      "\n",
      "Grid scores on development set:\n",
      "\n",
      "0.081 (+/-0.304) for {'loss': 'hinge', 'n_jobs': -1, 'shuffle': False, 'class_weight': None}\n",
      "0.019 (+/-0.020) for {'loss': 'hinge', 'n_jobs': -1, 'shuffle': True, 'class_weight': None}\n",
      "0.398 (+/-0.118) for {'loss': 'log', 'n_jobs': -1, 'shuffle': False, 'class_weight': None}\n",
      "0.336 (+/-0.095) for {'loss': 'log', 'n_jobs': -1, 'shuffle': True, 'class_weight': None}\n",
      "0.477 (+/-0.042) for {'loss': 'modified_huber', 'n_jobs': -1, 'shuffle': False, 'class_weight': None}\n",
      "0.377 (+/-0.149) for {'loss': 'modified_huber', 'n_jobs': -1, 'shuffle': True, 'class_weight': None}\n",
      "0.366 (+/-0.112) for {'loss': 'squared_hinge', 'n_jobs': -1, 'shuffle': False, 'class_weight': None}\n",
      "0.351 (+/-0.077) for {'loss': 'squared_hinge', 'n_jobs': -1, 'shuffle': True, 'class_weight': None}\n",
      "0.568 (+/-0.012) for {'loss': 'hinge', 'n_jobs': -1, 'shuffle': False, 'class_weight': 'balanced'}\n",
      "0.562 (+/-0.025) for {'loss': 'hinge', 'n_jobs': -1, 'shuffle': True, 'class_weight': 'balanced'}\n",
      "0.565 (+/-0.013) for {'loss': 'log', 'n_jobs': -1, 'shuffle': False, 'class_weight': 'balanced'}\n",
      "0.558 (+/-0.015) for {'loss': 'log', 'n_jobs': -1, 'shuffle': True, 'class_weight': 'balanced'}\n",
      "0.568 (+/-0.020) for {'loss': 'modified_huber', 'n_jobs': -1, 'shuffle': False, 'class_weight': 'balanced'}\n",
      "0.544 (+/-0.044) for {'loss': 'modified_huber', 'n_jobs': -1, 'shuffle': True, 'class_weight': 'balanced'}\n",
      "0.437 (+/-0.068) for {'loss': 'squared_hinge', 'n_jobs': -1, 'shuffle': False, 'class_weight': 'balanced'}\n",
      "0.423 (+/-0.071) for {'loss': 'squared_hinge', 'n_jobs': -1, 'shuffle': True, 'class_weight': 'balanced'}\n",
      "\n",
      "Detailed classification report:\n",
      "\n",
      "The model is trained on the full development set.\n",
      "The scores are computed on the full evaluation set.\n",
      "\n",
      "             precision    recall  f1-score   support\n",
      "\n",
      "          0       0.76      0.54      0.63     83975\n",
      "          1       0.48      0.72      0.57     49441\n",
      "\n",
      "avg / total       0.66      0.61      0.61    133416\n",
      "\n",
      "\n"
     ]
    }
   ],
   "source": [
    "# Set the parameters by cross-validation\n",
    "# we optimize for precision, recall and f1 score one by one\n",
    "# using a grid search over the hyperparameters\n",
    "\n",
    "# hyperparameter options for SGD classifier\n",
    "loss = ['hinge', 'log', 'modified_huber', 'squared_hinge']\n",
    "shuffle = [False, True]\n",
    "class_wt = [None, 'balanced']\n",
    "\n",
    "tuned_parameters = {'loss':loss , 'shuffle' : shuffle,\n",
    "                    'class_weight': class_wt, 'n_jobs': [-1]}\n",
    "\n",
    "scores = ['precision', 'recall', 'f1']\n",
    "\n",
    "for score in scores:\n",
    "    print(\"# Tuning hyper-parameters for %s\" % score)\n",
    "    print\n",
    "\n",
    "    clf = GridSearchCV(SGDClassifier(), tuned_parameters, cv=10,                        \n",
    "                     scoring='%s' % score)\n",
    "    clf.fit(X_train, y_train)\n",
    "\n",
    "    print(\"Best parameters set found on development set:\")\n",
    "    print\n",
    "    print(clf.best_params_)\n",
    "    print\n",
    "    print(\"Grid scores on development set:\")\n",
    "    print\n",
    "    means = clf.cv_results_['mean_test_score']\n",
    "    stds = clf.cv_results_['std_test_score']\n",
    "    for mean, std, params in zip(means, stds, clf.cv_results_['params']):\n",
    "        print(\"%0.3f (+/-%0.03f) for %r\"\n",
    "              % (mean, std * 2, params))\n",
    "    print\n",
    "\n",
    "    print(\"Detailed classification report:\")\n",
    "    print\n",
    "    print(\"The model is trained on the full development set.\")\n",
    "    print(\"The scores are computed on the full evaluation set.\")\n",
    "    print\n",
    "    y_true, y_pred = y_test, clf.predict(X_test)\n",
    "    print(classification_report(y_true, y_pred))\n",
    "    print"
   ]
  },
  {
   "cell_type": "markdown",
   "metadata": {},
   "source": [
    "### Performance Evaluation\n",
    "#### Accuracy and Confusion Matrix\n",
    "We compute the accuracy and confusion matrix corresponding to the best hyperparameters found above for recall"
   ]
  },
  {
   "cell_type": "code",
   "execution_count": 22,
   "metadata": {
    "collapsed": false
   },
   "outputs": [
    {
     "name": "stdout",
     "output_type": "stream",
     "text": [
      "confusion matrix :\n",
      "[[50183 33792]\n",
      " [16575 32866]]\n",
      "accuracy : 0.622481561432\n"
     ]
    }
   ],
   "source": [
    "clf = SGDClassifier(loss = 'modified_huber', n_jobs = -1, \n",
    "                    shuffle = True, class_weight = 'balanced',\n",
    "                   n_iter = 1000)\n",
    "clf.fit(X_train, y_train)\n",
    "y_pred = clf.predict(X_test)\n",
    "\n",
    "print 'confusion matrix :\\n', confusion_matrix(y_test, y_pred)\n",
    "print 'accuracy :', accuracy_score(y_test, y_pred)"
   ]
  },
  {
   "cell_type": "code",
   "execution_count": 11,
   "metadata": {
    "collapsed": true
   },
   "outputs": [],
   "source": [
    "from sklearn.metrics import roc_curve, auc\n",
    "%matplotlib inline"
   ]
  },
  {
   "cell_type": "markdown",
   "metadata": {},
   "source": [
    "#### Plotting ROC "
   ]
  },
  {
   "cell_type": "code",
   "execution_count": 12,
   "metadata": {
    "collapsed": false
   },
   "outputs": [],
   "source": [
    "y_pred_prob = [i[1] for i in clf.predict_proba(X_test)]"
   ]
  },
  {
   "cell_type": "code",
   "execution_count": 13,
   "metadata": {
    "collapsed": false,
    "scrolled": false
   },
   "outputs": [
    {
     "data": {
      "image/png": "[encoded data removed]",
      "text/plain": [
       "<matplotlib.figure.Figure at 0x4e4f898>"
      ]
     },
     "metadata": {},
     "output_type": "display_data"
    }
   ],
   "source": [
    "fpr, tpr, thresholds = roc_curve(y_test, y_pred_prob)\n",
    "roc_auc = auc(fpr, tpr)\n",
    "\n",
    "plt.figure()\n",
    "lw = 2\n",
    "plt.plot(fpr, tpr, color='darkorange',\n",
    "         lw=lw, label='ROC curve (area = %0.2f)' % roc_auc)\n",
    "plt.plot([0, 1], [0, 1], color='navy', lw=lw, linestyle='--')\n",
    "plt.xlim([0.0, 1.0])\n",
    "plt.ylim([0.0, 1.05])\n",
    "plt.xlabel('False Positive Rate')\n",
    "plt.ylabel('True Positive Rate')\n",
    "plt.title('Receiver operating characteristic')\n",
    "plt.legend(loc=\"lower right\")\n",
    "plt.show()\n"
   ]
  },
  {
   "cell_type": "markdown",
   "metadata": {},
   "source": [
    "#### Plot Precision Recall Curve"
   ]
  },
  {
   "cell_type": "code",
   "execution_count": 14,
   "metadata": {
    "collapsed": true
   },
   "outputs": [],
   "source": [
    "# Compute Precision-Recall and plot curve\n",
    "precision = dict()\n",
    "recall = dict()\n",
    "average_precision = dict()\n",
    "precision, recall, _ = precision_recall_curve(y_test, y_pred_prob)\n",
    "average_precision = average_precision_score(y_test, y_pred_prob)"
   ]
  },
  {
   "cell_type": "code",
   "execution_count": 15,
   "metadata": {
    "collapsed": false
   },
   "outputs": [
    {
     "data": {
      "image/png": "[encoded data removed]",
      "text/plain": [
       "<matplotlib.figure.Figure at 0x4e4f860>"
      ]
     },
     "metadata": {},
     "output_type": "display_data"
    }
   ],
   "source": [
    "# Plot Precision-Recall curve\n",
    "plt.clf()\n",
    "plt.plot(recall, precision, lw=lw, color='navy',\n",
    "         label='Precision-Recall curve')\n",
    "plt.xlabel('Recall')\n",
    "plt.ylabel('Precision')\n",
    "plt.ylim([0.0, 1.05])\n",
    "plt.xlim([0.0, 1.0])\n",
    "plt.title('Precision-Recall Non Default: AUC={0:0.2f}'.format(average_precision))\n",
    "plt.legend(loc=\"lower left\")\n",
    "plt.show()"
   ]
  },
  {
   "cell_type": "markdown",
   "metadata": {},
   "source": [
    "### Compare Performance with Different Hyperparameters\n",
    "We compare the performance with a different set of hyperparameters here i.e. loss = 'log' and class_weight = None\n",
    "\n",
    "#### Accuracy and Confusion Matrix"
   ]
  },
  {
   "cell_type": "code",
   "execution_count": 21,
   "metadata": {
    "collapsed": false,
    "scrolled": true
   },
   "outputs": [
    {
     "name": "stdout",
     "output_type": "stream",
     "text": [
      "confusion matrix :\n",
      "[[77000  6975]\n",
      " [38292 11149]]\n",
      "accuracy : 0.660707861126\n"
     ]
    }
   ],
   "source": [
    "clf = SGDClassifier(loss = 'log', n_jobs = -1, \n",
    "                    shuffle = True, class_weight = None, n_iter = 1000)\n",
    "clf.fit(X_train, y_train)\n",
    "y_pred = clf.predict(X_test)\n",
    "print 'confusion matrix :\\n', confusion_matrix(y_test, y_pred)\n",
    "print 'accuracy :', accuracy_score(y_test, y_pred)"
   ]
  },
  {
   "cell_type": "markdown",
   "metadata": {},
   "source": [
    "We see that the accuracy is better than the classifier we trained above for best recall. However, the recall of the duplicate class had decreased significantly, which means we have a lot of false negatives of duplicate question pairs."
   ]
  },
  {
   "cell_type": "markdown",
   "metadata": {},
   "source": [
    "#### Plotting ROC Curve"
   ]
  },
  {
   "cell_type": "code",
   "execution_count": 17,
   "metadata": {
    "collapsed": false
   },
   "outputs": [],
   "source": [
    "y_pred_prob = [i[1] for i in clf.predict_proba(X_test)]"
   ]
  },
  {
   "cell_type": "code",
   "execution_count": 18,
   "metadata": {
    "collapsed": false,
    "scrolled": true
   },
   "outputs": [
    {
     "data": {
      "image/png": "[encoded data removed]",
      "text/plain": [
       "<matplotlib.figure.Figure at 0x1900be80>"
      ]
     },
     "metadata": {},
     "output_type": "display_data"
    }
   ],
   "source": [
    "fpr, tpr, thresholds = roc_curve(y_test, y_pred_prob)\n",
    "roc_auc = auc(fpr, tpr)\n",
    "\n",
    "plt.figure()\n",
    "lw = 2\n",
    "plt.plot(fpr, tpr, color='darkorange',\n",
    "         lw=lw, label='ROC curve (area = %0.2f)' % roc_auc)\n",
    "plt.plot([0, 1], [0, 1], color='navy', lw=lw, linestyle='--')\n",
    "plt.xlim([0.0, 1.0])\n",
    "plt.ylim([0.0, 1.05])\n",
    "plt.xlabel('False Positive Rate')\n",
    "plt.ylabel('True Positive Rate')\n",
    "plt.title('Receiver operating characteristic')\n",
    "plt.legend(loc=\"lower right\")\n",
    "plt.show()"
   ]
  },
  {
   "cell_type": "markdown",
   "metadata": {},
   "source": [
    "#### Plotting the PR Curve"
   ]
  },
  {
   "cell_type": "code",
   "execution_count": 19,
   "metadata": {
    "collapsed": true
   },
   "outputs": [],
   "source": [
    "# Compute Precision-Recall and plot curve\n",
    "precision = dict()\n",
    "recall = dict()\n",
    "average_precision = dict()\n",
    "precision, recall, _ = precision_recall_curve(y_test, y_pred_prob)\n",
    "average_precision = average_precision_score(y_test, y_pred_prob)"
   ]
  },
  {
   "cell_type": "code",
   "execution_count": 20,
   "metadata": {
    "collapsed": false
   },
   "outputs": [
    {
     "data": {
      "image/png": "[encoded data removed]",
      "text/plain": [
       "<matplotlib.figure.Figure at 0x1126def0>"
      ]
     },
     "metadata": {},
     "output_type": "display_data"
    }
   ],
   "source": [
    "# Plot Precision-Recall curve\n",
    "plt.clf()\n",
    "plt.plot(recall, precision, lw=lw, color='navy',\n",
    "         label='Precision-Recall curve')\n",
    "plt.xlabel('Recall')\n",
    "plt.ylabel('Precision')\n",
    "plt.ylim([0.0, 1.05])\n",
    "plt.xlim([0.0, 1.0])\n",
    "plt.title('Precision-Recall Non Default: AUC={0:0.2f}'.format(average_precision))\n",
    "plt.legend(loc=\"lower left\")\n",
    "plt.show()"
   ]
  },
  {
   "cell_type": "code",
   "execution_count": null,
   "metadata": {
    "collapsed": true
   },
   "outputs": [],
   "source": []
  }
 ],
 "metadata": {
  "kernelspec": {
   "display_name": "Python 2",
   "language": "python",
   "name": "python2"
  },
  "language_info": {
   "codemirror_mode": {
    "name": "ipython",
    "version": 2
   },
   "file_extension": ".py",
   "mimetype": "text/x-python",
   "name": "python",
   "nbconvert_exporter": "python",
   "pygments_lexer": "ipython2",
   "version": "2.7.13"
  }
 },
 "nbformat": 4,
 "nbformat_minor": 2
}
