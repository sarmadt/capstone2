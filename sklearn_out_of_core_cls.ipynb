{
 "cells": [
  {
   "cell_type": "markdown",
   "metadata": {},
   "source": [
    "### Sklearn Out of Core Classifiers\n",
    "The dataset created from 300 LSI features per question is quite\n",
    "large and various machine learning operations cannot be applied\n",
    "directly on the entire dataset. For this reason, in this notebook\n",
    "we experiment with three of the out-of-core classifiers in the \n",
    "Sci-kit Learn Library. "
   ]
  },
  {
   "cell_type": "code",
   "execution_count": 1,
   "metadata": {
    "collapsed": true
   },
   "outputs": [],
   "source": [
    "# import needed modules\n",
    "import numpy as np\n",
    "import pandas as pd\n",
    "import seaborn as sns\n",
    "import matplotlib.pyplot as plt"
   ]
  },
  {
   "cell_type": "code",
   "execution_count": 2,
   "metadata": {
    "collapsed": true
   },
   "outputs": [],
   "source": [
    "# define filenames and related dimensions\n",
    "topics_filename = 'lsi_data300b_all.csv'\n",
    "train_filename = 'train.csv'\n",
    "test_filename = 'test.csv'\n",
    "data_nrec = 808580\n",
    "data_ncol = 600\n",
    "minibatch_size = 1000"
   ]
  },
  {
   "cell_type": "code",
   "execution_count": 3,
   "metadata": {
    "collapsed": true
   },
   "outputs": [],
   "source": [
    "# create a function that yields a minibatch from the training set\n",
    "def iter_minibatches(topfn, trainfn, minibatch_size):\n",
    "    \"\"\"Generator of minibatches.\"\"\"\n",
    "    \n",
    "    x_reader = pd.read_csv(topfn, header=None, \n",
    "                          skiprows=0, \n",
    "                          chunksize=minibatch_size)\n",
    "    \n",
    "    y_reader = pd.read_csv(trainfn, header=None,\n",
    "                           skiprows=1,\n",
    "                           chunksize=minibatch_size)\n",
    "    \n",
    "    X_ = x_reader.next()\n",
    "    df = y_reader.next()\n",
    "    X_ = X_.drop(data_ncol,1)\n",
    "    y_ = df.iloc[:,-1]\n",
    "    del df\n",
    "    \n",
    "    while len(X_):\n",
    "        yield normalize(X_.values), y_.values\n",
    "\n",
    "        X_ = x_reader.next()\n",
    "        df = y_reader.next()\n",
    "        X_ = X_.drop(data_ncol,1)\n",
    "        y_ = df.iloc[:,-1]\n",
    "        del df\n",
    "    "
   ]
  },
  {
   "cell_type": "code",
   "execution_count": 4,
   "metadata": {
    "collapsed": false
   },
   "outputs": [],
   "source": [
    "# import classifier libraries\n",
    "from sklearn.linear_model import SGDClassifier\n",
    "from sklearn.linear_model import PassiveAggressiveClassifier\n",
    "from sklearn.linear_model import Perceptron\n",
    "from sklearn.naive_bayes import MultinomialNB\n",
    "from sklearn.model_selection import train_test_split\n",
    "from sklearn.metrics import confusion_matrix\n",
    "from sklearn.preprocessing import normalize\n",
    "import time"
   ]
  },
  {
   "cell_type": "code",
   "execution_count": 5,
   "metadata": {
    "collapsed": true
   },
   "outputs": [],
   "source": [
    "# classifiers that support the `partial_fit` method\n",
    "partial_fit_classifiers = {\n",
    "    'SGD': SGDClassifier(loss = 'modified_huber', n_jobs = -1, n_iter = 1000),\n",
    "    'Perceptron': Perceptron(),\n",
    "    #'NB Multinomial': MultinomialNB(alpha=0.01),\n",
    "    'Passive-Aggressive': PassiveAggressiveClassifier(),\n",
    "}"
   ]
  },
  {
   "cell_type": "code",
   "execution_count": 6,
   "metadata": {
    "collapsed": true
   },
   "outputs": [],
   "source": [
    "# function to print classifier statistics as progress indicators\n",
    "def progress(cls_name, stats):\n",
    "    \"\"\"Report progress information, return a string.\"\"\"\n",
    "    duration = time.time() - stats['t0']\n",
    "    s = \"%20s classifier : \\t\" % cls_name\n",
    "    s += \"%(n_train)6d train docs (%(n_train_pos)6d positive) \" % stats\n",
    "    s += \"in %.2fs (%5d docs/s)\" % (duration, stats['n_train'] / duration)\n",
    "    return s"
   ]
  },
  {
   "cell_type": "code",
   "execution_count": 7,
   "metadata": {
    "collapsed": true
   },
   "outputs": [],
   "source": [
    "minibatch_size = 1000\n",
    "minibatch_iterators = iter_minibatches(topics_filename, train_filename,\n",
    "                                       minibatch_size)"
   ]
  },
  {
   "cell_type": "markdown",
   "metadata": {},
   "source": [
    "#### Iterative Learning \n",
    "We use the partial_fit method of the classifiers to incrementally learn\n",
    "the prediction model"
   ]
  },
  {
   "cell_type": "code",
   "execution_count": 8,
   "metadata": {
    "collapsed": false,
    "scrolled": true
   },
   "outputs": [
    {
     "name": "stdout",
     "output_type": "stream",
     "text": [
      "  Passive-Aggressive classifier : \t  1000 train docs (   380 positive) in 0.28s ( 3521 docs/s)\n",
      "          Perceptron classifier : \t  1000 train docs (   380 positive) in 0.28s ( 3521 docs/s)\n",
      "                 SGD classifier : \t  1000 train docs (   380 positive) in 0.30s ( 3333 docs/s)\n",
      "\n",
      "\n",
      "  Passive-Aggressive classifier : \t 21000 train docs (  7832 positive) in 4.27s ( 4921 docs/s)\n",
      "          Perceptron classifier : \t 21000 train docs (  7832 positive) in 4.27s ( 4916 docs/s)\n",
      "                 SGD classifier : \t 21000 train docs (  7832 positive) in 4.27s ( 4912 docs/s)\n",
      "\n",
      "\n",
      "  Passive-Aggressive classifier : \t 41000 train docs ( 15267 positive) in 8.30s ( 4940 docs/s)\n",
      "          Perceptron classifier : \t 41000 train docs ( 15267 positive) in 8.30s ( 4937 docs/s)\n",
      "                 SGD classifier : \t 41000 train docs ( 15267 positive) in 8.31s ( 4935 docs/s)\n",
      "\n",
      "\n",
      "  Passive-Aggressive classifier : \t 61000 train docs ( 22762 positive) in 12.21s ( 4994 docs/s)\n",
      "          Perceptron classifier : \t 61000 train docs ( 22762 positive) in 12.21s ( 4994 docs/s)\n",
      "                 SGD classifier : \t 61000 train docs ( 22762 positive) in 12.21s ( 4994 docs/s)\n",
      "\n",
      "\n",
      "  Passive-Aggressive classifier : \t 81000 train docs ( 30206 positive) in 16.15s ( 5013 docs/s)\n",
      "          Perceptron classifier : \t 81000 train docs ( 30206 positive) in 16.17s ( 5008 docs/s)\n",
      "                 SGD classifier : \t 81000 train docs ( 30206 positive) in 16.17s ( 5008 docs/s)\n",
      "\n",
      "\n",
      "  Passive-Aggressive classifier : \t101000 train docs ( 37620 positive) in 20.74s ( 4869 docs/s)\n",
      "          Perceptron classifier : \t101000 train docs ( 37620 positive) in 20.76s ( 4865 docs/s)\n",
      "                 SGD classifier : \t101000 train docs ( 37620 positive) in 20.76s ( 4865 docs/s)\n",
      "\n",
      "\n",
      "  Passive-Aggressive classifier : \t121000 train docs ( 45009 positive) in 24.66s ( 4905 docs/s)\n",
      "          Perceptron classifier : \t121000 train docs ( 45009 positive) in 24.67s ( 4904 docs/s)\n",
      "                 SGD classifier : \t121000 train docs ( 45009 positive) in 24.67s ( 4903 docs/s)\n",
      "\n",
      "\n",
      "  Passive-Aggressive classifier : \t141000 train docs ( 52521 positive) in 28.74s ( 4906 docs/s)\n",
      "          Perceptron classifier : \t141000 train docs ( 52521 positive) in 28.74s ( 4905 docs/s)\n",
      "                 SGD classifier : \t141000 train docs ( 52521 positive) in 28.75s ( 4905 docs/s)\n",
      "\n",
      "\n",
      "  Passive-Aggressive classifier : \t161000 train docs ( 59932 positive) in 32.80s ( 4909 docs/s)\n",
      "          Perceptron classifier : \t161000 train docs ( 59932 positive) in 32.81s ( 4906 docs/s)\n",
      "                 SGD classifier : \t161000 train docs ( 59932 positive) in 32.81s ( 4906 docs/s)\n",
      "\n",
      "\n",
      "  Passive-Aggressive classifier : \t181000 train docs ( 67319 positive) in 36.86s ( 4910 docs/s)\n",
      "          Perceptron classifier : \t181000 train docs ( 67319 positive) in 36.88s ( 4908 docs/s)\n",
      "                 SGD classifier : \t181000 train docs ( 67319 positive) in 36.88s ( 4908 docs/s)\n",
      "\n",
      "\n",
      "  Passive-Aggressive classifier : \t201000 train docs ( 74828 positive) in 40.74s ( 4933 docs/s)\n",
      "          Perceptron classifier : \t201000 train docs ( 74828 positive) in 40.74s ( 4933 docs/s)\n",
      "                 SGD classifier : \t201000 train docs ( 74828 positive) in 40.76s ( 4931 docs/s)\n",
      "\n",
      "\n",
      "  Passive-Aggressive classifier : \t221000 train docs ( 82219 positive) in 44.49s ( 4967 docs/s)\n",
      "          Perceptron classifier : \t221000 train docs ( 82219 positive) in 44.49s ( 4967 docs/s)\n",
      "                 SGD classifier : \t221000 train docs ( 82219 positive) in 44.51s ( 4965 docs/s)\n",
      "\n",
      "\n",
      "  Passive-Aggressive classifier : \t241000 train docs ( 89663 positive) in 48.44s ( 4975 docs/s)\n",
      "          Perceptron classifier : \t241000 train docs ( 89663 positive) in 48.44s ( 4975 docs/s)\n",
      "                 SGD classifier : \t241000 train docs ( 89663 positive) in 48.44s ( 4975 docs/s)\n",
      "\n",
      "\n",
      "  Passive-Aggressive classifier : \t261000 train docs ( 97051 positive) in 53.12s ( 4913 docs/s)\n",
      "          Perceptron classifier : \t261000 train docs ( 97051 positive) in 53.12s ( 4913 docs/s)\n",
      "                 SGD classifier : \t261000 train docs ( 97051 positive) in 53.12s ( 4913 docs/s)\n",
      "\n",
      "\n",
      "  Passive-Aggressive classifier : \t281000 train docs (104394 positive) in 58.53s ( 4800 docs/s)\n",
      "          Perceptron classifier : \t281000 train docs (104394 positive) in 58.54s ( 4800 docs/s)\n",
      "                 SGD classifier : \t281000 train docs (104394 positive) in 58.55s ( 4799 docs/s)\n",
      "\n",
      "\n",
      "  Passive-Aggressive classifier : \t301000 train docs (111860 positive) in 62.44s ( 4820 docs/s)\n",
      "          Perceptron classifier : \t301000 train docs (111860 positive) in 62.44s ( 4820 docs/s)\n",
      "                 SGD classifier : \t301000 train docs (111860 positive) in 62.44s ( 4820 docs/s)\n",
      "\n",
      "\n",
      "  Passive-Aggressive classifier : \t321000 train docs (119260 positive) in 66.30s ( 4841 docs/s)\n",
      "          Perceptron classifier : \t321000 train docs (119260 positive) in 66.31s ( 4840 docs/s)\n",
      "                 SGD classifier : \t321000 train docs (119260 positive) in 66.31s ( 4840 docs/s)\n",
      "\n",
      "\n",
      "  Passive-Aggressive classifier : \t341000 train docs (126691 positive) in 70.23s ( 4855 docs/s)\n",
      "          Perceptron classifier : \t341000 train docs (126691 positive) in 70.23s ( 4855 docs/s)\n",
      "                 SGD classifier : \t341000 train docs (126691 positive) in 70.23s ( 4855 docs/s)\n",
      "\n",
      "\n",
      "  Passive-Aggressive classifier : \t361000 train docs (134104 positive) in 74.16s ( 4867 docs/s)\n",
      "          Perceptron classifier : \t361000 train docs (134104 positive) in 74.16s ( 4867 docs/s)\n",
      "                 SGD classifier : \t361000 train docs (134104 positive) in 74.17s ( 4866 docs/s)\n",
      "\n",
      "\n",
      "  Passive-Aggressive classifier : \t381000 train docs (141279 positive) in 78.30s ( 4865 docs/s)\n",
      "          Perceptron classifier : \t381000 train docs (141279 positive) in 78.30s ( 4865 docs/s)\n",
      "                 SGD classifier : \t381000 train docs (141279 positive) in 78.30s ( 4865 docs/s)\n",
      "\n",
      "\n",
      "  Passive-Aggressive classifier : \t401000 train docs (148139 positive) in 82.44s ( 4864 docs/s)\n",
      "          Perceptron classifier : \t401000 train docs (148139 positive) in 82.46s ( 4863 docs/s)\n",
      "                 SGD classifier : \t401000 train docs (148139 positive) in 82.46s ( 4863 docs/s)\n",
      "\n",
      "\n",
      "                 SGD classifier : \t404290 train docs (149263 positive) in 83.89s ( 4819 docs/s)\n",
      "\n",
      "\n"
     ]
    }
   ],
   "source": [
    "total_vect_time = 0.0\n",
    "all_classes = np.array([0, 1])\n",
    "\n",
    "# initialize classifier statistics data structure\n",
    "cls_stats = {}\n",
    "for cls_name in partial_fit_classifiers:\n",
    "    stats = {'n_train': 0, 'n_train_pos': 0,\n",
    "             't0': time.time(), 'runtime_history': [0], \n",
    "             'total_fit_time': 0.0}\n",
    "    cls_stats[cls_name] = stats\n",
    "\n",
    "# Main loop : iterate on mini-batches of examples\n",
    "for i, (X_train, y_train) in enumerate(minibatch_iterators):\n",
    "    for cls_name, cls in partial_fit_classifiers.items():\n",
    "        tick = time.time()\n",
    "        # update estimator with examples in the current mini-batch\n",
    "        #print 'now doing partial fit'\n",
    "        cls.partial_fit(X_train, y_train, classes=all_classes)\n",
    "\n",
    "        # accumulate test accuracy stats\n",
    "        cls_stats[cls_name]['total_fit_time'] += time.time() - tick\n",
    "        cls_stats[cls_name]['n_train'] += X_train.shape[0]\n",
    "        cls_stats[cls_name]['n_train_pos'] += sum(y_train)\n",
    "        tick = time.time()\n",
    "        run_history = total_vect_time + cls_stats[cls_name]['total_fit_time']\n",
    "        cls_stats[cls_name]['runtime_history'].append(run_history)\n",
    "\n",
    "        if i % 20 == 0:\n",
    "            print progress(cls_name, cls_stats[cls_name])\n",
    "    if i % 20 == 0:\n",
    "        print '\\n'\n",
    "print progress(cls_name, cls_stats[cls_name])\n",
    "print '\\n'\n",
    "    "
   ]
  },
  {
   "cell_type": "code",
   "execution_count": 9,
   "metadata": {
    "collapsed": false
   },
   "outputs": [
    {
     "data": {
      "text/html": [
       "<div>\n",
       "<style>\n",
       "    .dataframe thead tr:only-child th {\n",
       "        text-align: right;\n",
       "    }\n",
       "\n",
       "    .dataframe thead th {\n",
       "        text-align: left;\n",
       "    }\n",
       "\n",
       "    .dataframe tbody tr th {\n",
       "        vertical-align: top;\n",
       "    }\n",
       "</style>\n",
       "<table border=\"1\" class=\"dataframe\">\n",
       "  <thead>\n",
       "    <tr style=\"text-align: right;\">\n",
       "      <th></th>\n",
       "      <th>0</th>\n",
       "      <th>1</th>\n",
       "      <th>2</th>\n",
       "      <th>3</th>\n",
       "      <th>4</th>\n",
       "      <th>5</th>\n",
       "      <th>6</th>\n",
       "      <th>7</th>\n",
       "      <th>8</th>\n",
       "      <th>9</th>\n",
       "      <th>...</th>\n",
       "      <th>590</th>\n",
       "      <th>591</th>\n",
       "      <th>592</th>\n",
       "      <th>593</th>\n",
       "      <th>594</th>\n",
       "      <th>595</th>\n",
       "      <th>596</th>\n",
       "      <th>597</th>\n",
       "      <th>598</th>\n",
       "      <th>599</th>\n",
       "    </tr>\n",
       "  </thead>\n",
       "  <tbody>\n",
       "    <tr>\n",
       "      <th>0</th>\n",
       "      <td>0.116973</td>\n",
       "      <td>0.129336</td>\n",
       "      <td>-0.147529</td>\n",
       "      <td>-0.344232</td>\n",
       "      <td>-0.805465</td>\n",
       "      <td>-0.178602</td>\n",
       "      <td>0.165683</td>\n",
       "      <td>0.017523</td>\n",
       "      <td>0.217531</td>\n",
       "      <td>-0.163631</td>\n",
       "      <td>...</td>\n",
       "      <td>-0.012319</td>\n",
       "      <td>0.014212</td>\n",
       "      <td>-0.008204</td>\n",
       "      <td>0.027198</td>\n",
       "      <td>-0.015458</td>\n",
       "      <td>-0.051744</td>\n",
       "      <td>0.018734</td>\n",
       "      <td>-0.020440</td>\n",
       "      <td>-0.036383</td>\n",
       "      <td>0.110148</td>\n",
       "    </tr>\n",
       "    <tr>\n",
       "      <th>1</th>\n",
       "      <td>0.008437</td>\n",
       "      <td>0.006934</td>\n",
       "      <td>-0.002033</td>\n",
       "      <td>0.002181</td>\n",
       "      <td>0.001664</td>\n",
       "      <td>0.000304</td>\n",
       "      <td>0.007157</td>\n",
       "      <td>-0.001556</td>\n",
       "      <td>-0.005190</td>\n",
       "      <td>-0.002693</td>\n",
       "      <td>...</td>\n",
       "      <td>0.004264</td>\n",
       "      <td>0.002187</td>\n",
       "      <td>-0.014265</td>\n",
       "      <td>-0.005043</td>\n",
       "      <td>0.006914</td>\n",
       "      <td>0.002378</td>\n",
       "      <td>0.004651</td>\n",
       "      <td>0.001284</td>\n",
       "      <td>-0.001356</td>\n",
       "      <td>-0.017259</td>\n",
       "    </tr>\n",
       "    <tr>\n",
       "      <th>2</th>\n",
       "      <td>0.046586</td>\n",
       "      <td>0.192261</td>\n",
       "      <td>0.159185</td>\n",
       "      <td>-0.080548</td>\n",
       "      <td>-0.205002</td>\n",
       "      <td>0.869738</td>\n",
       "      <td>-0.128208</td>\n",
       "      <td>0.038212</td>\n",
       "      <td>-0.226068</td>\n",
       "      <td>-0.116199</td>\n",
       "      <td>...</td>\n",
       "      <td>-0.010866</td>\n",
       "      <td>0.013304</td>\n",
       "      <td>-0.003162</td>\n",
       "      <td>0.036234</td>\n",
       "      <td>-0.078597</td>\n",
       "      <td>-0.041592</td>\n",
       "      <td>0.085446</td>\n",
       "      <td>-0.074769</td>\n",
       "      <td>-0.006734</td>\n",
       "      <td>-0.004014</td>\n",
       "    </tr>\n",
       "    <tr>\n",
       "      <th>3</th>\n",
       "      <td>0.002213</td>\n",
       "      <td>0.003883</td>\n",
       "      <td>0.002442</td>\n",
       "      <td>0.000453</td>\n",
       "      <td>-0.001469</td>\n",
       "      <td>0.001377</td>\n",
       "      <td>-0.000406</td>\n",
       "      <td>0.000516</td>\n",
       "      <td>0.002220</td>\n",
       "      <td>-0.001168</td>\n",
       "      <td>...</td>\n",
       "      <td>-0.004613</td>\n",
       "      <td>0.001528</td>\n",
       "      <td>0.001364</td>\n",
       "      <td>0.001826</td>\n",
       "      <td>0.000211</td>\n",
       "      <td>-0.004134</td>\n",
       "      <td>-0.000354</td>\n",
       "      <td>-0.000339</td>\n",
       "      <td>-0.000942</td>\n",
       "      <td>0.001243</td>\n",
       "    </tr>\n",
       "    <tr>\n",
       "      <th>4</th>\n",
       "      <td>0.002961</td>\n",
       "      <td>0.005638</td>\n",
       "      <td>-0.001022</td>\n",
       "      <td>-0.000135</td>\n",
       "      <td>-0.003060</td>\n",
       "      <td>0.005387</td>\n",
       "      <td>-0.000589</td>\n",
       "      <td>-0.000900</td>\n",
       "      <td>-0.000269</td>\n",
       "      <td>0.001097</td>\n",
       "      <td>...</td>\n",
       "      <td>-0.004826</td>\n",
       "      <td>-0.003080</td>\n",
       "      <td>0.000188</td>\n",
       "      <td>0.011339</td>\n",
       "      <td>-0.006525</td>\n",
       "      <td>-0.009069</td>\n",
       "      <td>0.010759</td>\n",
       "      <td>0.012395</td>\n",
       "      <td>-0.005665</td>\n",
       "      <td>0.005812</td>\n",
       "    </tr>\n",
       "  </tbody>\n",
       "</table>\n",
       "<p>5 rows × 600 columns</p>\n",
       "</div>"
      ],
      "text/plain": [
       "        0         1         2         3         4         5         6    \\\n",
       "0  0.116973  0.129336 -0.147529 -0.344232 -0.805465 -0.178602  0.165683   \n",
       "1  0.008437  0.006934 -0.002033  0.002181  0.001664  0.000304  0.007157   \n",
       "2  0.046586  0.192261  0.159185 -0.080548 -0.205002  0.869738 -0.128208   \n",
       "3  0.002213  0.003883  0.002442  0.000453 -0.001469  0.001377 -0.000406   \n",
       "4  0.002961  0.005638 -0.001022 -0.000135 -0.003060  0.005387 -0.000589   \n",
       "\n",
       "        7         8         9      ...          590       591       592  \\\n",
       "0  0.017523  0.217531 -0.163631    ...    -0.012319  0.014212 -0.008204   \n",
       "1 -0.001556 -0.005190 -0.002693    ...     0.004264  0.002187 -0.014265   \n",
       "2  0.038212 -0.226068 -0.116199    ...    -0.010866  0.013304 -0.003162   \n",
       "3  0.000516  0.002220 -0.001168    ...    -0.004613  0.001528  0.001364   \n",
       "4 -0.000900 -0.000269  0.001097    ...    -0.004826 -0.003080  0.000188   \n",
       "\n",
       "        593       594       595       596       597       598       599  \n",
       "0  0.027198 -0.015458 -0.051744  0.018734 -0.020440 -0.036383  0.110148  \n",
       "1 -0.005043  0.006914  0.002378  0.004651  0.001284 -0.001356 -0.017259  \n",
       "2  0.036234 -0.078597 -0.041592  0.085446 -0.074769 -0.006734 -0.004014  \n",
       "3  0.001826  0.000211 -0.004134 -0.000354 -0.000339 -0.000942  0.001243  \n",
       "4  0.011339 -0.006525 -0.009069  0.010759  0.012395 -0.005665  0.005812  \n",
       "\n",
       "[5 rows x 600 columns]"
      ]
     },
     "execution_count": 9,
     "metadata": {},
     "output_type": "execute_result"
    }
   ],
   "source": [
    "df = pd.read_csv(topics_filename, header=None)\n",
    "df = df.drop(data_ncol,1)\n",
    "df.head()"
   ]
  },
  {
   "cell_type": "code",
   "execution_count": 10,
   "metadata": {
    "collapsed": false
   },
   "outputs": [
    {
     "data": {
      "text/html": [
       "<div>\n",
       "<style>\n",
       "    .dataframe thead tr:only-child th {\n",
       "        text-align: right;\n",
       "    }\n",
       "\n",
       "    .dataframe thead th {\n",
       "        text-align: left;\n",
       "    }\n",
       "\n",
       "    .dataframe tbody tr th {\n",
       "        vertical-align: top;\n",
       "    }\n",
       "</style>\n",
       "<table border=\"1\" class=\"dataframe\">\n",
       "  <thead>\n",
       "    <tr style=\"text-align: right;\">\n",
       "      <th></th>\n",
       "      <th>id</th>\n",
       "      <th>qid1</th>\n",
       "      <th>qid2</th>\n",
       "      <th>question1</th>\n",
       "      <th>question2</th>\n",
       "      <th>is_duplicate</th>\n",
       "    </tr>\n",
       "  </thead>\n",
       "  <tbody>\n",
       "    <tr>\n",
       "      <th>0</th>\n",
       "      <td>0</td>\n",
       "      <td>1</td>\n",
       "      <td>2</td>\n",
       "      <td>What is the step by step guide to invest in sh...</td>\n",
       "      <td>What is the step by step guide to invest in sh...</td>\n",
       "      <td>0</td>\n",
       "    </tr>\n",
       "    <tr>\n",
       "      <th>1</th>\n",
       "      <td>1</td>\n",
       "      <td>3</td>\n",
       "      <td>4</td>\n",
       "      <td>What is the story of Kohinoor (Koh-i-Noor) Dia...</td>\n",
       "      <td>What would happen if the Indian government sto...</td>\n",
       "      <td>0</td>\n",
       "    </tr>\n",
       "    <tr>\n",
       "      <th>2</th>\n",
       "      <td>2</td>\n",
       "      <td>5</td>\n",
       "      <td>6</td>\n",
       "      <td>How can I increase the speed of my internet co...</td>\n",
       "      <td>How can Internet speed be increased by hacking...</td>\n",
       "      <td>0</td>\n",
       "    </tr>\n",
       "    <tr>\n",
       "      <th>3</th>\n",
       "      <td>3</td>\n",
       "      <td>7</td>\n",
       "      <td>8</td>\n",
       "      <td>Why am I mentally very lonely? How can I solve...</td>\n",
       "      <td>Find the remainder when [math]23^{24}[/math] i...</td>\n",
       "      <td>0</td>\n",
       "    </tr>\n",
       "    <tr>\n",
       "      <th>4</th>\n",
       "      <td>4</td>\n",
       "      <td>9</td>\n",
       "      <td>10</td>\n",
       "      <td>Which one dissolve in water quikly sugar, salt...</td>\n",
       "      <td>Which fish would survive in salt water?</td>\n",
       "      <td>0</td>\n",
       "    </tr>\n",
       "  </tbody>\n",
       "</table>\n",
       "</div>"
      ],
      "text/plain": [
       "   id  qid1  qid2                                          question1  \\\n",
       "0   0     1     2  What is the step by step guide to invest in sh...   \n",
       "1   1     3     4  What is the story of Kohinoor (Koh-i-Noor) Dia...   \n",
       "2   2     5     6  How can I increase the speed of my internet co...   \n",
       "3   3     7     8  Why am I mentally very lonely? How can I solve...   \n",
       "4   4     9    10  Which one dissolve in water quikly sugar, salt...   \n",
       "\n",
       "                                           question2  is_duplicate  \n",
       "0  What is the step by step guide to invest in sh...             0  \n",
       "1  What would happen if the Indian government sto...             0  \n",
       "2  How can Internet speed be increased by hacking...             0  \n",
       "3  Find the remainder when [math]23^{24}[/math] i...             0  \n",
       "4            Which fish would survive in salt water?             0  "
      ]
     },
     "execution_count": 10,
     "metadata": {},
     "output_type": "execute_result"
    }
   ],
   "source": [
    "df_text = pd.read_csv(train_filename).fillna(\"\")\n",
    "df_text.head()"
   ]
  },
  {
   "cell_type": "code",
   "execution_count": 11,
   "metadata": {
    "collapsed": true
   },
   "outputs": [],
   "source": [
    "X = df.values\n",
    "y = df_text.iloc[:,-1:].values.ravel()\n",
    "del df_text"
   ]
  },
  {
   "cell_type": "code",
   "execution_count": 12,
   "metadata": {
    "collapsed": false
   },
   "outputs": [
    {
     "name": "stdout",
     "output_type": "stream",
     "text": [
      "600 404290\n"
     ]
    }
   ],
   "source": [
    "print len(X[0]), len(y)"
   ]
  },
  {
   "cell_type": "code",
   "execution_count": 13,
   "metadata": {
    "collapsed": true
   },
   "outputs": [],
   "source": [
    "X_train, X_test, y_train, y_test = \\\n",
    "        train_test_split(X, y, test_size=.33, random_state=42)"
   ]
  },
  {
   "cell_type": "markdown",
   "metadata": {},
   "source": [
    "#### Evaluate Performance"
   ]
  },
  {
   "cell_type": "code",
   "execution_count": 14,
   "metadata": {
    "collapsed": true
   },
   "outputs": [],
   "source": [
    "from sklearn.metrics import accuracy_score\n",
    "from sklearn.metrics import precision_recall_curve\n",
    "from sklearn.metrics import average_precision_score"
   ]
  },
  {
   "cell_type": "markdown",
   "metadata": {},
   "source": [
    "##### Accuracy and Confusion Matrices"
   ]
  },
  {
   "cell_type": "code",
   "execution_count": 15,
   "metadata": {
    "collapsed": false
   },
   "outputs": [
    {
     "name": "stdout",
     "output_type": "stream",
     "text": [
      "[[73053 10922]\n",
      " [36660 12781]]\n",
      "0.643356119206\n",
      "[[69966 14009]\n",
      " [35468 13973]]\n",
      "0.629152425496\n",
      "[[72518 11457]\n",
      " [32530 16911]]\n",
      "0.670301912814\n"
     ]
    }
   ],
   "source": [
    "for cls_name, cls in partial_fit_classifiers.items():\n",
    "    y_pred = cls.predict(X_test)\n",
    "    print 'confusion matrix :', confusion_matrix(y_test, y_pred)\n",
    "    print 'accuracy :', accuracy_score(y_test, y_pred)"
   ]
  },
  {
   "cell_type": "code",
   "execution_count": 16,
   "metadata": {
    "collapsed": true
   },
   "outputs": [],
   "source": [
    "from sklearn.metrics import roc_curve, auc\n",
    "%matplotlib inline"
   ]
  },
  {
   "cell_type": "markdown",
   "metadata": {},
   "source": [
    "##### ROC Curves\n",
    "We plot the ROC curves to see how the true positive rate changes with the false positive rate as we move the threshold. The area under the curve tells us how different our classifier is from a random classifier."
   ]
  },
  {
   "cell_type": "code",
   "execution_count": 19,
   "metadata": {
    "collapsed": false
   },
   "outputs": [
    {
     "data": {
      "image/png": "[encoded data removed]",
      "text/plain": [
       "<matplotlib.figure.Figure at 0xcdaaf98>"
      ]
     },
     "metadata": {},
     "output_type": "display_data"
    },
    {
     "data": {
      "image/png": "[encoded data removed]",
      "text/plain": [
       "<matplotlib.figure.Figure at 0xd28acf8>"
      ]
     },
     "metadata": {},
     "output_type": "display_data"
    },
    {
     "data": {
      "image/png": "[encoded data removed]",
      "text/plain": [
       "<matplotlib.figure.Figure at 0x28d71a90>"
      ]
     },
     "metadata": {},
     "output_type": "display_data"
    }
   ],
   "source": [
    "# plot the ROC curve and measure the area under curve\n",
    "for cls_name, cls in partial_fit_classifiers.items():\n",
    "    if cls_name == 'SGD':\n",
    "        y_pred_prob = [i[1] for i in cls.predict_proba(X_test)]\n",
    "    else:\n",
    "        y_pred_prob = [i for i in cls.predict(X_test)]\n",
    "    fpr, tpr, thresholds = roc_curve(y_test, y_pred_prob)\n",
    "    roc_auc = auc(fpr, tpr)\n",
    "\n",
    "    plt.figure()\n",
    "    lw = 2\n",
    "    plt.plot(fpr, tpr, color='darkorange',\n",
    "             lw=lw, label='ROC curve (area = %0.2f)' % roc_auc)\n",
    "    plt.plot([0, 1], [0, 1], color='navy', lw=lw, linestyle='--')\n",
    "    plt.xlim([0.0, 1.0])\n",
    "    plt.ylim([0.0, 1.05])\n",
    "    plt.xlabel('False Positive Rate')\n",
    "    plt.ylabel('True Positive Rate')\n",
    "    plt.title('ROC Curve for '+cls_name )\n",
    "    plt.legend(loc=\"lower right\")\n",
    "    plt.show()"
   ]
  },
  {
   "cell_type": "markdown",
   "metadata": {},
   "source": [
    "We see that we do not have the predict_proba() function in the Perceptron and the Passive-Aggressive classifier. That is why, the ROC curve is not proper.\n",
    "We ignore that because the SGD has a better accuracy and confusion matrix."
   ]
  },
  {
   "cell_type": "markdown",
   "metadata": {},
   "source": [
    "##### Precision Recall Curve\n",
    "We plot precision and recall curves to see the trade-off between the \n",
    "precision and recall for the classifiers"
   ]
  },
  {
   "cell_type": "code",
   "execution_count": 21,
   "metadata": {
    "collapsed": false
   },
   "outputs": [
    {
     "data": {
      "image/png": "[encoded data removed]",
      "text/plain": [
       "<matplotlib.figure.Figure at 0x19446c18>"
      ]
     },
     "metadata": {},
     "output_type": "display_data"
    },
    {
     "data": {
      "image/png": "[encoded data removed]",
      "text/plain": [
       "<matplotlib.figure.Figure at 0x36eaa048>"
      ]
     },
     "metadata": {},
     "output_type": "display_data"
    },
    {
     "data": {
      "image/png": "[encoded data removed]",
      "text/plain": [
       "<matplotlib.figure.Figure at 0x28d665f8>"
      ]
     },
     "metadata": {},
     "output_type": "display_data"
    }
   ],
   "source": [
    "for cls_name, clf in partial_fit_classifiers.items():\n",
    "    if cls_name == 'SGD':\n",
    "        y_pred_prob = [i[1] for i in cls.predict_proba(X_test)]\n",
    "    else:\n",
    "        y_pred_prob = [i for i in cls.predict(X_test)]\n",
    "    precision = dict()\n",
    "    recall = dict()\n",
    "    average_precision = dict()\n",
    "    precision, recall, _ = precision_recall_curve(y_test, y_pred_prob)\n",
    "    average_precision = average_precision_score(y_test, y_pred_prob)\n",
    "    \n",
    "    # Plot Precision-Recall curve\n",
    "    plt.clf()\n",
    "    plt.plot(recall, precision, lw=lw, color='navy',\n",
    "             label='Precision-Recall curve for '+cls_name)\n",
    "    plt.xlabel('Recall')\n",
    "    plt.ylabel('Precision')\n",
    "    plt.ylim([0.0, 1.05])\n",
    "    plt.xlim([0.0, 1.0])\n",
    "    plt.title('Precision-Recall Non Default: AUC={0:0.2f}'.format(average_precision))\n",
    "    plt.legend(loc=\"lower left\")\n",
    "    plt.show()"
   ]
  },
  {
   "cell_type": "markdown",
   "metadata": {
    "collapsed": true
   },
   "source": [
    "Again, due to the unavailability of the probability estimates, the PR curves for the Perceptron and Passive-Aggressive classifiers are not smooth. We ignor this because we know from the accuracy and confusion matrix that the SGD is the best performer so far. We will continue our analysis with the SGD in another notebook."
   ]
  },
  {
   "cell_type": "code",
   "execution_count": null,
   "metadata": {
    "collapsed": true
   },
   "outputs": [],
   "source": []
  }
 ],
 "metadata": {
  "kernelspec": {
   "display_name": "Python 2",
   "language": "python",
   "name": "python2"
  },
  "language_info": {
   "codemirror_mode": {
    "name": "ipython",
    "version": 2
   },
   "file_extension": ".py",
   "mimetype": "text/x-python",
   "name": "python",
   "nbconvert_exporter": "python",
   "pygments_lexer": "ipython2",
   "version": "2.7.13"
  }
 },
 "nbformat": 4,
 "nbformat_minor": 2
}
